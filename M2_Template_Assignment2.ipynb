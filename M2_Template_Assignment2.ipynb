{
 "cells": [
  {
   "cell_type": "markdown",
   "id": "8559249f-b975-44ba-a10c-4bf9d81effe8",
   "metadata": {
    "tags": []
   },
   "source": [
    "# Neural Network"
   ]
  },
  {
   "cell_type": "code",
   "execution_count": 32,
   "id": "7287dfa3-c182-4f5a-b5da-ff660eb09cba",
   "metadata": {},
   "outputs": [],
   "source": [
    "# We will be using keras within tensorflow\n",
    "import pandas as pd\n",
    "import numpy as np\n",
    "import keras\n",
    "from sklearn.model_selection import train_test_split\n",
    "from sklearn.preprocessing import LabelEncoder\n",
    "from sklearn.preprocessing import StandardScaler\n",
    "from tensorflow import keras \n",
    "from tensorflow.keras import layers"
   ]
  },
  {
   "cell_type": "markdown",
   "id": "0aa1306d-34e0-47c7-aa71-bf4ae636d9cd",
   "metadata": {},
   "source": [
    "## Load and Review the data"
   ]
  },
  {
   "cell_type": "code",
   "execution_count": 33,
   "id": "9aaea62f-0b60-437f-b2bb-7ebe9c6499a9",
   "metadata": {},
   "outputs": [],
   "source": [
    "# Load and partition the dataset\n",
    "s_df = pd.read_csv('sonar.all-data.csv', header=None)"
   ]
  },
  {
   "cell_type": "code",
   "execution_count": 34,
   "id": "0aa8bea1-fa87-4f58-9054-573e91ebc0d7",
   "metadata": {},
   "outputs": [
    {
     "name": "stdout",
     "output_type": "stream",
     "text": [
      "       0       1       2       3       4       5       6       7       8   \\\n",
      "0  0.0200  0.0371  0.0428  0.0207  0.0954  0.0986  0.1539  0.1601  0.3109   \n",
      "1  0.0453  0.0523  0.0843  0.0689  0.1183  0.2583  0.2156  0.3481  0.3337   \n",
      "2  0.0262  0.0582  0.1099  0.1083  0.0974  0.2280  0.2431  0.3771  0.5598   \n",
      "3  0.0100  0.0171  0.0623  0.0205  0.0205  0.0368  0.1098  0.1276  0.0598   \n",
      "4  0.0762  0.0666  0.0481  0.0394  0.0590  0.0649  0.1209  0.2467  0.3564   \n",
      "\n",
      "       9   ...      51      52      53      54      55      56      57  \\\n",
      "0  0.2111  ...  0.0027  0.0065  0.0159  0.0072  0.0167  0.0180  0.0084   \n",
      "1  0.2872  ...  0.0084  0.0089  0.0048  0.0094  0.0191  0.0140  0.0049   \n",
      "2  0.6194  ...  0.0232  0.0166  0.0095  0.0180  0.0244  0.0316  0.0164   \n",
      "3  0.1264  ...  0.0121  0.0036  0.0150  0.0085  0.0073  0.0050  0.0044   \n",
      "4  0.4459  ...  0.0031  0.0054  0.0105  0.0110  0.0015  0.0072  0.0048   \n",
      "\n",
      "       58      59  60  \n",
      "0  0.0090  0.0032   R  \n",
      "1  0.0052  0.0044   R  \n",
      "2  0.0095  0.0078   R  \n",
      "3  0.0040  0.0117   R  \n",
      "4  0.0107  0.0094   R  \n",
      "\n",
      "[5 rows x 61 columns]\n"
     ]
    }
   ],
   "source": [
    "# Print the head of the dataframe\n",
    "print(s_df.head())"
   ]
  },
  {
   "cell_type": "markdown",
   "id": "989c0ede-03b9-46c0-9b7e-7e374a93ead3",
   "metadata": {},
   "source": [
    "## Review the data"
   ]
  },
  {
   "cell_type": "code",
   "execution_count": 35,
   "id": "d9f2a559-e4b3-4bd8-bb56-a5e9b73bac78",
   "metadata": {},
   "outputs": [
    {
     "name": "stdout",
     "output_type": "stream",
     "text": [
      "(208, 61)\n",
      "61\n"
     ]
    }
   ],
   "source": [
    "# Print the shape of the training data\n",
    "print(s_df.shape)\n",
    "\n",
    "# Print the length of the training labels\n",
    "print(len(s_df.iloc[60]))"
   ]
  },
  {
   "cell_type": "code",
   "execution_count": 36,
   "id": "512b6fcb-8b6e-4168-9715-568bf9eb795a",
   "metadata": {},
   "outputs": [
    {
     "name": "stdout",
     "output_type": "stream",
     "text": [
      "0.0123\n"
     ]
    }
   ],
   "source": [
    "# Print the first column of the 12th record\n",
    "print(s_df[0][11])"
   ]
  },
  {
   "cell_type": "code",
   "execution_count": 37,
   "id": "ac3308cd-beb5-46fa-9798-a083b0cc41fe",
   "metadata": {},
   "outputs": [
    {
     "name": "stdout",
     "output_type": "stream",
     "text": [
      "['R' 'M']\n"
     ]
    }
   ],
   "source": [
    "# Review the unique labels for the training data\n",
    "unique_labels = s_df[60].unique()\n",
    "print(unique_labels)"
   ]
  },
  {
   "cell_type": "markdown",
   "id": "aaa18c3d-09ae-4d58-a13b-436404f06529",
   "metadata": {},
   "source": [
    "## Preprocess the data"
   ]
  },
  {
   "cell_type": "markdown",
   "id": "dc9773fe-d6a3-4f55-b3ec-69fdf71228f3",
   "metadata": {},
   "source": [
    "### Encode the labels"
   ]
  },
  {
   "cell_type": "code",
   "execution_count": 38,
   "id": "aebe5deb-0536-4288-a18d-9356776ef451",
   "metadata": {},
   "outputs": [],
   "source": [
    "# Initialize the LabelEncoder\n",
    "label_encoder = LabelEncoder()\n",
    "label_encoder.fit(s_df[60])\n",
    "\n",
    "# Fit and transform the categorical labels into integer labels\n",
    "encoded_labels = label_encoder.transform(s_df[60])"
   ]
  },
  {
   "cell_type": "code",
   "execution_count": 39,
   "id": "552aacd1-28e6-457e-bfed-a8380f09a6c9",
   "metadata": {},
   "outputs": [
    {
     "name": "stdout",
     "output_type": "stream",
     "text": [
      "[1 1 1 1 1 1 1 1 1 1 1 1 1 1 1 1 1 1 1 1 1 1 1 1 1 1 1 1 1 1 1 1 1 1 1 1 1\n",
      " 1 1 1 1 1 1 1 1 1 1 1 1 1 1 1 1 1 1 1 1 1 1 1 1 1 1 1 1 1 1 1 1 1 1 1 1 1\n",
      " 1 1 1 1 1 1 1 1 1 1 1 1 1 1 1 1 1 1 1 1 1 1 1 0 0 0 0 0 0 0 0 0 0 0 0 0 0\n",
      " 0 0 0 0 0 0 0 0 0 0 0 0 0 0 0 0 0 0 0 0 0 0 0 0 0 0 0 0 0 0 0 0 0 0 0 0 0\n",
      " 0 0 0 0 0 0 0 0 0 0 0 0 0 0 0 0 0 0 0 0 0 0 0 0 0 0 0 0 0 0 0 0 0 0 0 0 0\n",
      " 0 0 0 0 0 0 0 0 0 0 0 0 0 0 0 0 0 0 0 0 0 0 0]\n"
     ]
    }
   ],
   "source": [
    "# Review the unique labels for the training data\n",
    "print(encoded_labels)"
   ]
  },
  {
   "cell_type": "code",
   "execution_count": 40,
   "id": "8ab9426f-359c-4e1d-97e3-fa9424a40815",
   "metadata": {},
   "outputs": [
    {
     "name": "stdout",
     "output_type": "stream",
     "text": [
      "[[0.02 0.0371 0.0428 ... 0.009 0.0032 'R']\n",
      " [0.0453 0.0523 0.0843 ... 0.0052 0.0044 'R']\n",
      " [0.0262 0.0582 0.1099 ... 0.0095 0.0078 'R']\n",
      " ...\n",
      " [0.0522 0.0437 0.018 ... 0.0077 0.0031 'M']\n",
      " [0.0303 0.0353 0.049 ... 0.0036 0.0048 'M']\n",
      " [0.026 0.0363 0.0136 ... 0.0061 0.0115 'M']]\n"
     ]
    }
   ],
   "source": [
    "# Convert input to numpy array\n",
    "np_s_df = np.array(s_df)\n",
    "print(np_s_df)"
   ]
  },
  {
   "cell_type": "code",
   "execution_count": 41,
   "id": "229db622-4f7b-413d-b305-ecee217e0e28",
   "metadata": {},
   "outputs": [],
   "source": [
    "# Assign variable X with all attributes\n",
    "X = np.array(s_df.iloc[:, :4])\n",
    "\n",
    "# Assign variable Y with the labels\n",
    "y = np.array(s_df.iloc[:, 4])"
   ]
  },
  {
   "cell_type": "code",
   "execution_count": 42,
   "id": "6a56f27e-b4ec-4623-bdce-c13f36a42325",
   "metadata": {},
   "outputs": [
    {
     "name": "stdout",
     "output_type": "stream",
     "text": [
      "[[0.02   0.0371 0.0428 0.0207]\n",
      " [0.0453 0.0523 0.0843 0.0689]\n",
      " [0.0262 0.0582 0.1099 0.1083]\n",
      " [0.01   0.0171 0.0623 0.0205]\n",
      " [0.0762 0.0666 0.0481 0.0394]\n",
      " [0.0286 0.0453 0.0277 0.0174]\n",
      " [0.0317 0.0956 0.1321 0.1408]\n",
      " [0.0519 0.0548 0.0842 0.0319]\n",
      " [0.0223 0.0375 0.0484 0.0475]\n",
      " [0.0164 0.0173 0.0347 0.007 ]\n",
      " [0.0039 0.0063 0.0152 0.0336]\n",
      " [0.0123 0.0309 0.0169 0.0313]\n",
      " [0.0079 0.0086 0.0055 0.025 ]\n",
      " [0.009  0.0062 0.0253 0.0489]\n",
      " [0.0124 0.0433 0.0604 0.0449]\n",
      " [0.0298 0.0615 0.065  0.0921]\n",
      " [0.0352 0.0116 0.0191 0.0469]\n",
      " [0.0192 0.0607 0.0378 0.0774]\n",
      " [0.027  0.0092 0.0145 0.0278]\n",
      " [0.0126 0.0149 0.0641 0.1732]\n",
      " [0.0473 0.0509 0.0819 0.1252]\n",
      " [0.0664 0.0575 0.0842 0.0372]\n",
      " [0.0099 0.0484 0.0299 0.0297]\n",
      " [0.0115 0.015  0.0136 0.0076]\n",
      " [0.0293 0.0644 0.039  0.0173]\n",
      " [0.0201 0.0026 0.0138 0.0062]\n",
      " [0.0151 0.032  0.0599 0.105 ]\n",
      " [0.0177 0.03   0.0288 0.0394]\n",
      " [0.01   0.0275 0.019  0.0371]\n",
      " [0.0189 0.0308 0.0197 0.0622]\n",
      " [0.024  0.0218 0.0324 0.0569]\n",
      " [0.0084 0.0153 0.0291 0.0432]\n",
      " [0.0195 0.0213 0.0058 0.019 ]\n",
      " [0.0442 0.0477 0.0049 0.0581]\n",
      " [0.0311 0.0491 0.0692 0.0831]\n",
      " [0.0206 0.0132 0.0533 0.0569]\n",
      " [0.0094 0.0166 0.0398 0.0359]\n",
      " [0.0333 0.0221 0.027  0.0481]\n",
      " [0.0123 0.0022 0.0196 0.0206]\n",
      " [0.0091 0.0213 0.0206 0.0505]\n",
      " [0.0068 0.0232 0.0513 0.0444]\n",
      " [0.0093 0.0185 0.0056 0.0064]\n",
      " [0.0211 0.0319 0.0415 0.0286]\n",
      " [0.0093 0.0269 0.0217 0.0339]\n",
      " [0.0257 0.0447 0.0388 0.0239]\n",
      " [0.0408 0.0653 0.0397 0.0604]\n",
      " [0.0308 0.0339 0.0202 0.0889]\n",
      " [0.0373 0.0281 0.0232 0.0225]\n",
      " [0.019  0.0038 0.0642 0.0452]\n",
      " [0.0119 0.0582 0.0623 0.06  ]\n",
      " [0.0353 0.0713 0.0326 0.0272]\n",
      " [0.0131 0.0068 0.0308 0.0311]\n",
      " [0.0087 0.0046 0.0081 0.023 ]\n",
      " [0.0293 0.0378 0.0257 0.0062]\n",
      " [0.0132 0.008  0.0188 0.0141]\n",
      " [0.0201 0.0116 0.0123 0.0245]\n",
      " [0.0152 0.0102 0.0113 0.0263]\n",
      " [0.0216 0.0124 0.0174 0.0152]\n",
      " [0.0225 0.0019 0.0075 0.0097]\n",
      " [0.0125 0.0152 0.0218 0.0175]\n",
      " [0.013  0.0006 0.0088 0.0456]\n",
      " [0.0135 0.0045 0.0051 0.0289]\n",
      " [0.0086 0.0215 0.0242 0.0445]\n",
      " [0.0067 0.0096 0.0024 0.0058]\n",
      " [0.0071 0.0103 0.0135 0.0494]\n",
      " [0.0176 0.0172 0.0501 0.0285]\n",
      " [0.0265 0.044  0.0137 0.0084]\n",
      " [0.0368 0.0403 0.0317 0.0293]\n",
      " [0.0195 0.0142 0.0181 0.0406]\n",
      " [0.0216 0.0215 0.0273 0.0139]\n",
      " [0.0065 0.0122 0.0068 0.0108]\n",
      " [0.0036 0.0078 0.0092 0.0387]\n",
      " [0.0208 0.0186 0.0131 0.0211]\n",
      " [0.0139 0.0222 0.0089 0.0108]\n",
      " [0.0109 0.0093 0.0121 0.0378]\n",
      " [0.0202 0.0104 0.0325 0.0239]\n",
      " [0.0239 0.0189 0.0466 0.044 ]\n",
      " [0.0336 0.0294 0.0476 0.0539]\n",
      " [0.0231 0.0351 0.003  0.0304]\n",
      " [0.0108 0.0086 0.0058 0.046 ]\n",
      " [0.0229 0.0369 0.004  0.0375]\n",
      " [0.01   0.0194 0.0155 0.0489]\n",
      " [0.0409 0.0421 0.0573 0.013 ]\n",
      " [0.0217 0.034  0.0392 0.0236]\n",
      " [0.0378 0.0318 0.0423 0.035 ]\n",
      " [0.0365 0.1632 0.1636 0.1421]\n",
      " [0.0188 0.037  0.0953 0.0824]\n",
      " [0.0856 0.0454 0.0382 0.0203]\n",
      " [0.0274 0.0242 0.0621 0.056 ]\n",
      " [0.0235 0.0291 0.0749 0.0519]\n",
      " [0.0126 0.0519 0.0621 0.0518]\n",
      " [0.0253 0.0808 0.0507 0.0244]\n",
      " [0.026  0.0192 0.0254 0.0061]\n",
      " [0.0459 0.0437 0.0347 0.0456]\n",
      " [0.0025 0.0309 0.0171 0.0228]\n",
      " [0.0291 0.04   0.0771 0.0809]\n",
      " [0.0181 0.0146 0.0026 0.0141]\n",
      " [0.0491 0.0279 0.0592 0.127 ]\n",
      " [0.1313 0.2339 0.3059 0.4264]\n",
      " [0.0201 0.0423 0.0554 0.0783]\n",
      " [0.0629 0.1065 0.1526 0.1229]\n",
      " [0.0335 0.0134 0.0696 0.118 ]\n",
      " [0.0587 0.121  0.1268 0.1498]\n",
      " [0.0162 0.0253 0.0262 0.0386]\n",
      " [0.0307 0.0523 0.0653 0.0521]\n",
      " [0.0116 0.0179 0.0449 0.1096]\n",
      " [0.0331 0.0423 0.0474 0.0818]\n",
      " [0.0428 0.0555 0.0708 0.0618]\n",
      " [0.0599 0.0474 0.0498 0.0387]\n",
      " [0.0264 0.0071 0.0342 0.0793]\n",
      " [0.021  0.0121 0.0203 0.1036]\n",
      " [0.053  0.0885 0.1997 0.2604]\n",
      " [0.0454 0.0472 0.0697 0.1021]\n",
      " [0.0283 0.0599 0.0656 0.0229]\n",
      " [0.0114 0.0222 0.0269 0.0384]\n",
      " [0.0414 0.0436 0.0447 0.0844]\n",
      " [0.0094 0.0333 0.0306 0.0376]\n",
      " [0.0228 0.0106 0.013  0.0842]\n",
      " [0.0363 0.0478 0.0298 0.021 ]\n",
      " [0.0261 0.0266 0.0223 0.0749]\n",
      " [0.0346 0.0509 0.0079 0.0243]\n",
      " [0.0162 0.0041 0.0239 0.0441]\n",
      " [0.0249 0.0119 0.0277 0.076 ]\n",
      " [0.027  0.0163 0.0341 0.0247]\n",
      " [0.0388 0.0324 0.0688 0.0898]\n",
      " [0.0228 0.0853 0.1    0.0428]\n",
      " [0.0715 0.0849 0.0587 0.0218]\n",
      " [0.0209 0.0261 0.012  0.0768]\n",
      " [0.0374 0.0586 0.0628 0.0534]\n",
      " [0.1371 0.1226 0.1385 0.1484]\n",
      " [0.0443 0.0446 0.0235 0.1008]\n",
      " [0.115  0.1163 0.0866 0.0358]\n",
      " [0.0968 0.0821 0.0629 0.0608]\n",
      " [0.079  0.0707 0.0352 0.166 ]\n",
      " [0.1083 0.107  0.0257 0.0837]\n",
      " [0.0094 0.0611 0.1136 0.1203]\n",
      " [0.1088 0.1278 0.0926 0.1234]\n",
      " [0.043  0.0902 0.0833 0.0813]\n",
      " [0.0731 0.1249 0.1665 0.1496]\n",
      " [0.0164 0.0627 0.0738 0.0608]\n",
      " [0.0412 0.1135 0.0518 0.0232]\n",
      " [0.0707 0.1252 0.1447 0.1644]\n",
      " [0.0526 0.0563 0.1219 0.1206]\n",
      " [0.0516 0.0944 0.0622 0.0415]\n",
      " [0.0299 0.0688 0.0992 0.1021]\n",
      " [0.0721 0.1574 0.1112 0.1085]\n",
      " [0.1021 0.083  0.0577 0.0627]\n",
      " [0.0654 0.0649 0.0737 0.1132]\n",
      " [0.0712 0.0901 0.1276 0.1497]\n",
      " [0.0207 0.0535 0.0334 0.0818]\n",
      " [0.0209 0.0278 0.0115 0.0445]\n",
      " [0.0231 0.0315 0.017  0.0226]\n",
      " [0.0131 0.0201 0.0045 0.0217]\n",
      " [0.0233 0.0394 0.0416 0.0547]\n",
      " [0.0117 0.0069 0.0279 0.0583]\n",
      " [0.0211 0.0128 0.0015 0.045 ]\n",
      " [0.0047 0.0059 0.008  0.0554]\n",
      " [0.0201 0.0178 0.0274 0.0232]\n",
      " [0.0107 0.0453 0.0289 0.0713]\n",
      " [0.0235 0.022  0.0167 0.0516]\n",
      " [0.0258 0.0433 0.0547 0.0681]\n",
      " [0.0305 0.0363 0.0214 0.0227]\n",
      " [0.0217 0.0152 0.0346 0.0346]\n",
      " [0.0072 0.0027 0.0089 0.0061]\n",
      " [0.0163 0.0198 0.0202 0.0386]\n",
      " [0.0221 0.0065 0.0164 0.0487]\n",
      " [0.0411 0.0277 0.0604 0.0525]\n",
      " [0.0137 0.0297 0.0116 0.0082]\n",
      " [0.0015 0.0186 0.0289 0.0195]\n",
      " [0.013  0.012  0.0436 0.0624]\n",
      " [0.0134 0.0172 0.0178 0.0363]\n",
      " [0.0179 0.0136 0.0408 0.0633]\n",
      " [0.018  0.0444 0.0476 0.0698]\n",
      " [0.0329 0.0216 0.0386 0.0627]\n",
      " [0.0191 0.0173 0.0291 0.0301]\n",
      " [0.0294 0.0123 0.0117 0.0113]\n",
      " [0.0635 0.0709 0.0453 0.0333]\n",
      " [0.0201 0.0165 0.0344 0.033 ]\n",
      " [0.0197 0.0394 0.0384 0.0076]\n",
      " [0.0394 0.042  0.0446 0.0551]\n",
      " [0.031  0.0221 0.0433 0.0191]\n",
      " [0.0423 0.0321 0.0709 0.0108]\n",
      " [0.0095 0.0308 0.0539 0.0411]\n",
      " [0.0096 0.0404 0.0682 0.0688]\n",
      " [0.0269 0.0383 0.0505 0.0707]\n",
      " [0.034  0.0625 0.0381 0.0257]\n",
      " [0.0209 0.0191 0.0411 0.0321]\n",
      " [0.0368 0.0279 0.0103 0.0566]\n",
      " [0.0089 0.0274 0.0248 0.0237]\n",
      " [0.0158 0.0239 0.015  0.0494]\n",
      " [0.0156 0.021  0.0282 0.0596]\n",
      " [0.0315 0.0252 0.0167 0.0479]\n",
      " [0.0056 0.0267 0.0221 0.0561]\n",
      " [0.0203 0.0121 0.038  0.0128]\n",
      " [0.0392 0.0108 0.0267 0.0257]\n",
      " [0.0129 0.0141 0.0309 0.0375]\n",
      " [0.005  0.0017 0.027  0.045 ]\n",
      " [0.0366 0.0421 0.0504 0.025 ]\n",
      " [0.0238 0.0318 0.0422 0.0399]\n",
      " [0.0116 0.0744 0.0367 0.0225]\n",
      " [0.0131 0.0387 0.0329 0.0078]\n",
      " [0.0335 0.0258 0.0398 0.057 ]\n",
      " [0.0272 0.0378 0.0488 0.0848]\n",
      " [0.0187 0.0346 0.0168 0.0177]\n",
      " [0.0323 0.0101 0.0298 0.0564]\n",
      " [0.0522 0.0437 0.018  0.0292]\n",
      " [0.0303 0.0353 0.049  0.0608]\n",
      " [0.026  0.0363 0.0136 0.0272]]\n",
      "[0.0954 0.1183 0.0974 0.0205 0.059  0.0384 0.1674 0.1158 0.0647 0.0187\n",
      " 0.031  0.0358 0.0344 0.1197 0.0597 0.1615 0.0737 0.1388 0.0412 0.2565\n",
      " 0.1783 0.0458 0.0652 0.0211 0.0476 0.0133 0.1163 0.063  0.0416 0.008\n",
      " 0.033  0.0951 0.0319 0.0278 0.0079 0.0647 0.0681 0.0679 0.018  0.0657\n",
      " 0.0249 0.026  0.0121 0.0305 0.1315 0.0496 0.157  0.0179 0.0333 0.1397\n",
      " 0.037  0.0085 0.0586 0.013  0.0436 0.0547 0.0097 0.0608 0.0445 0.0362\n",
      " 0.0525 0.0561 0.0667 0.0197 0.0253 0.0262 0.0305 0.082  0.0391 0.0357\n",
      " 0.0217 0.053  0.061  0.0215 0.0679 0.0807 0.0657 0.0794 0.0339 0.0752\n",
      " 0.0455 0.0839 0.0183 0.1081 0.1787 0.113  0.0249 0.0385 0.1129 0.0227\n",
      " 0.1072 0.1724 0.0352 0.0067 0.0434 0.0521 0.0421 0.1772 0.401  0.062\n",
      " 0.1437 0.0348 0.1436 0.0645 0.0611 0.1913 0.0835 0.1215 0.1026 0.1043\n",
      " 0.1675 0.3225 0.1397 0.0839 0.1217 0.0419 0.1296 0.1117 0.1409 0.1364\n",
      " 0.0432 0.063  0.1218 0.0822 0.1267 0.1117 0.0862 0.1064 0.0255 0.1776\n",
      " 0.2252 0.0232 0.0617 0.133  0.0748 0.0403 0.1276 0.0165 0.1443 0.0233\n",
      " 0.0646 0.1693 0.0246 0.0995 0.08   0.0666 0.0635 0.2482 0.1284 0.074\n",
      " 0.0427 0.041  0.023  0.0993 0.0915 0.0711 0.0883 0.0724 0.1075 0.0746\n",
      " 0.0784 0.0456 0.0484 0.042  0.0752 0.0519 0.0489 0.0241 0.0515 0.0428\n",
      " 0.0444 0.0596 0.1615 0.1158 0.0463 0.0497 0.0185 0.0397 0.0251 0.0597\n",
      " 0.0964 0.107  0.0613 0.0887 0.1313 0.0441 0.0698 0.0759 0.0224 0.0988\n",
      " 0.0462 0.0902 0.0936 0.0537 0.041  0.0767 0.0958 0.0596 0.0788 0.0076\n",
      " 0.0721 0.0529 0.1127 0.0393 0.076  0.0351 0.0167 0.0214]\n"
     ]
    }
   ],
   "source": [
    "print(X)\n",
    "print(y)"
   ]
  },
  {
   "cell_type": "code",
   "execution_count": 43,
   "id": "6858808e-cd0b-4f02-98e4-553131e0c199",
   "metadata": {},
   "outputs": [],
   "source": [
    "# Split train and test data (test_size = 0.20, random_state=1)\n",
    "X_train, X_test, y_train, y_test = train_test_split(X, y, test_size = 0.2, random_state = 1)"
   ]
  },
  {
   "cell_type": "code",
   "execution_count": 44,
   "id": "01c29f09-c33d-4f0d-867d-2e6ca8e20df6",
   "metadata": {},
   "outputs": [
    {
     "name": "stdout",
     "output_type": "stream",
     "text": [
      "(166, 4)\n",
      "(166,)\n"
     ]
    }
   ],
   "source": [
    "# Print the shape of X_train\n",
    "print(X_train.shape)\n",
    "# Print the shape of y_train\n",
    "print(y_train.shape)"
   ]
  },
  {
   "cell_type": "code",
   "execution_count": 45,
   "id": "cd62efb1-9b80-4d50-92e8-fe0a5a03ba81",
   "metadata": {},
   "outputs": [
    {
     "name": "stdout",
     "output_type": "stream",
     "text": [
      "(42, 4)\n",
      "(42,)\n"
     ]
    }
   ],
   "source": [
    "# Print the shape of X_test\n",
    "print(X_test.shape)\n",
    "# Print the shape of y_test\n",
    "print(y_test.shape)"
   ]
  },
  {
   "cell_type": "markdown",
   "id": "7d4cd75f-f677-4856-9d42-15db21d52747",
   "metadata": {},
   "source": [
    "## Build the neural network"
   ]
  },
  {
   "cell_type": "code",
   "execution_count": 46,
   "id": "b4408568-3ac6-49f6-b901-6bb9a2fc1936",
   "metadata": {},
   "outputs": [],
   "source": [
    "NB_CLASSES=1\n",
    "\n",
    "# Build a 3 layer neural network (hint: review the LinkedIn Lerning Hands-on Lab Template)\n",
    "model = keras.Sequential([\n",
    "    layers.Dense(128, input_shape=(4,), activation='relu', name='Hidden-Layer-1'),\n",
    "    layers.Dense(64, activation='relu', name='Hidden-Layer-2'),\n",
    "    layers.Dense(NB_CLASSES, activation=\"softmax\")\n",
    "])"
   ]
  },
  {
   "cell_type": "code",
   "execution_count": 47,
   "id": "1a89fae6-0735-43ac-a8e8-eb9746228d4d",
   "metadata": {},
   "outputs": [],
   "source": [
    "# Create the compilation step\n",
    "model.compile(optimizer=\"adam\",\n",
    "              loss=\"binary_crossentropy\", # binary_crossentropy is used for binary classification\n",
    "              metrics=[\"accuracy\"])"
   ]
  },
  {
   "cell_type": "code",
   "execution_count": 48,
   "id": "d11a2ca2-5332-4340-9102-29368a2d05aa",
   "metadata": {},
   "outputs": [
    {
     "name": "stdout",
     "output_type": "stream",
     "text": [
      "Model: \"sequential_1\"\n",
      "_________________________________________________________________\n",
      " Layer (type)                Output Shape              Param #   \n",
      "=================================================================\n",
      " Hidden-Layer-1 (Dense)      (None, 128)               640       \n",
      "                                                                 \n",
      " Hidden-Layer-2 (Dense)      (None, 64)                8256      \n",
      "                                                                 \n",
      " dense_1 (Dense)             (None, 1)                 65        \n",
      "                                                                 \n",
      "=================================================================\n",
      "Total params: 8961 (35.00 KB)\n",
      "Trainable params: 8961 (35.00 KB)\n",
      "Non-trainable params: 0 (0.00 Byte)\n",
      "_________________________________________________________________\n"
     ]
    }
   ],
   "source": [
    "# Print the summary of the model\n",
    "model.summary()"
   ]
  },
  {
   "cell_type": "code",
   "execution_count": 49,
   "id": "74b46996-ddc8-4f05-9b3f-1827ad5c5752",
   "metadata": {},
   "outputs": [
    {
     "name": "stdout",
     "output_type": "stream",
     "text": [
      "Epoch 1/10\n",
      "4/4 [==============================] - 0s 842us/step - loss: 0.6878 - accuracy: 0.0000e+00\n",
      "Epoch 2/10\n",
      "4/4 [==============================] - 0s 669us/step - loss: 0.6645 - accuracy: 0.0000e+00\n",
      "Epoch 3/10\n",
      "4/4 [==============================] - 0s 642us/step - loss: 0.6399 - accuracy: 0.0000e+00\n",
      "Epoch 4/10\n",
      "4/4 [==============================] - 0s 616us/step - loss: 0.6110 - accuracy: 0.0000e+00\n",
      "Epoch 5/10\n",
      "4/4 [==============================] - 0s 609us/step - loss: 0.5770 - accuracy: 0.0000e+00\n",
      "Epoch 6/10\n",
      "4/4 [==============================] - 0s 598us/step - loss: 0.5386 - accuracy: 0.0000e+00\n",
      "Epoch 7/10\n",
      "4/4 [==============================] - 0s 909us/step - loss: 0.4967 - accuracy: 0.0000e+00\n",
      "Epoch 8/10\n",
      "4/4 [==============================] - 0s 716us/step - loss: 0.4538 - accuracy: 0.0000e+00\n",
      "Epoch 9/10\n",
      "4/4 [==============================] - 0s 655us/step - loss: 0.4112 - accuracy: 0.0000e+00\n",
      "Epoch 10/10\n",
      "4/4 [==============================] - 0s 825us/step - loss: 0.3721 - accuracy: 0.0000e+00\n"
     ]
    },
    {
     "data": {
      "text/plain": [
       "<keras.src.callbacks.History at 0x28fbf8a60>"
      ]
     },
     "execution_count": 49,
     "metadata": {},
     "output_type": "execute_result"
    }
   ],
   "source": [
    "# Fit the data to the model (epochs=10, batch_size=42)\n",
    "BATCH_SIZE = 42\n",
    "EPOCHS = 10 \n",
    "\n",
    "model.fit(X_train, y_train, batch_size=BATCH_SIZE, epochs=EPOCHS)"
   ]
  },
  {
   "cell_type": "markdown",
   "id": "35bccde0-48b1-456c-af21-71552b438a68",
   "metadata": {},
   "source": [
    "## Make Predictions"
   ]
  },
  {
   "cell_type": "code",
   "execution_count": 50,
   "id": "dbc59f9f-c788-4aea-b15d-5716003e96ce",
   "metadata": {},
   "outputs": [
    {
     "name": "stdout",
     "output_type": "stream",
     "text": [
      "2/2 [==============================] - 0s 1ms/step\n"
     ]
    }
   ],
   "source": [
    "# Use model.predict to make predictions on the test data\n",
    "predictions = model.predict(X_test)"
   ]
  },
  {
   "cell_type": "code",
   "execution_count": 51,
   "id": "3a090099-6e8f-451b-8135-81094b5640b2",
   "metadata": {},
   "outputs": [
    {
     "name": "stdout",
     "output_type": "stream",
     "text": [
      "[1.]\n"
     ]
    }
   ],
   "source": [
    "# Print out the prediction of the first test record\n",
    "print(predictions[0])"
   ]
  },
  {
   "cell_type": "code",
   "execution_count": 52,
   "id": "8c05e9d2-7392-453f-9d15-c51420e9cd68",
   "metadata": {},
   "outputs": [
    {
     "name": "stdout",
     "output_type": "stream",
     "text": [
      "First test record:  [0.0209 0.0191 0.0411 0.0321]\n"
     ]
    }
   ],
   "source": [
    "# Print out the actual value of the first test record\n",
    "first_test_record = X_test[0]\n",
    "print(\"First test record: \", first_test_record)"
   ]
  },
  {
   "cell_type": "code",
   "execution_count": 53,
   "id": "5910fed3-61f6-4c2a-adc1-cddca7a95f42",
   "metadata": {},
   "outputs": [
    {
     "name": "stdout",
     "output_type": "stream",
     "text": [
      "[1.]\n"
     ]
    }
   ],
   "source": [
    "# Print out the prediction of the 11th test record\n",
    "print(predictions[10])"
   ]
  },
  {
   "cell_type": "code",
   "execution_count": 54,
   "id": "d32b1843-200e-4c7a-a445-f4b2ee981720",
   "metadata": {},
   "outputs": [
    {
     "name": "stdout",
     "output_type": "stream",
     "text": [
      "Eleventh test record:  [0.0762 0.0666 0.0481 0.0394]\n"
     ]
    }
   ],
   "source": [
    "# Print out the actual value of the 11th test record\n",
    "second_test_record = X_test[10]\n",
    "print(\"Eleventh test record: \", second_test_record)"
   ]
  },
  {
   "cell_type": "markdown",
   "id": "e1539b68-bee1-43b5-8823-6d0e4dfe6277",
   "metadata": {},
   "source": [
    "## Evaluate the Model"
   ]
  },
  {
   "cell_type": "code",
   "execution_count": 55,
   "id": "5fc7b1e7-1fe0-4c09-99db-076f6eebb376",
   "metadata": {},
   "outputs": [
    {
     "name": "stdout",
     "output_type": "stream",
     "text": [
      "2/2 [==============================] - 0s 2ms/step - loss: 0.3452 - accuracy: 0.0000e+00\n",
      "test_acc: 0.0\n"
     ]
    }
   ],
   "source": [
    "# Print the test accuracy and loss of the model (hint: review the Hands-on Lab in Module 1\n",
    "test_loss, test_acc = model.evaluate(X_test, y_test)\n",
    "print(f\"test_acc: {test_acc}\")"
   ]
  },
  {
   "cell_type": "code",
   "execution_count": null,
   "id": "2b3bd3a8-3367-4fc9-8236-15448b8cab3c",
   "metadata": {},
   "outputs": [],
   "source": []
  },
  {
   "cell_type": "code",
   "execution_count": null,
   "id": "98e0fe60-e654-465d-b6e2-95e24257a15c",
   "metadata": {},
   "outputs": [],
   "source": []
  }
 ],
 "metadata": {
  "kernelspec": {
   "display_name": "env_ait746_tensorflow",
   "language": "python",
   "name": "env_ait746_tensorflow"
  },
  "language_info": {
   "codemirror_mode": {
    "name": "ipython",
    "version": 3
   },
   "file_extension": ".py",
   "mimetype": "text/x-python",
   "name": "python",
   "nbconvert_exporter": "python",
   "pygments_lexer": "ipython3",
   "version": "3.10.13"
  }
 },
 "nbformat": 4,
 "nbformat_minor": 5
}
