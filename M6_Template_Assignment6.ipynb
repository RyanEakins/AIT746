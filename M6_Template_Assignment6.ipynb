{
 "cells": [
  {
   "cell_type": "markdown",
   "id": "68995734-153c-4f75-a3cd-10dded792078",
   "metadata": {
    "tags": []
   },
   "source": [
    "# Generating text"
   ]
  },
  {
   "cell_type": "code",
   "execution_count": 3,
   "id": "94d650a8-b2df-437e-9f3d-8002886335e4",
   "metadata": {},
   "outputs": [
    {
     "name": "stdout",
     "output_type": "stream",
     "text": [
      "Collecting ipywidgets\n",
      "  Downloading ipywidgets-8.1.2-py3-none-any.whl.metadata (2.4 kB)\n",
      "Collecting comm>=0.1.3 (from ipywidgets)\n",
      "  Downloading comm-0.2.2-py3-none-any.whl.metadata (3.7 kB)\n",
      "Requirement already satisfied: ipython>=6.1.0 in /opt/anaconda3/envs/env_ait746_tensorflow/lib/python3.10/site-packages (from ipywidgets) (8.15.0)\n",
      "Requirement already satisfied: traitlets>=4.3.1 in /opt/anaconda3/envs/env_ait746_tensorflow/lib/python3.10/site-packages (from ipywidgets) (5.7.1)\n",
      "Collecting widgetsnbextension~=4.0.10 (from ipywidgets)\n",
      "  Downloading widgetsnbextension-4.0.10-py3-none-any.whl.metadata (1.6 kB)\n",
      "Collecting jupyterlab-widgets~=3.0.10 (from ipywidgets)\n",
      "  Downloading jupyterlab_widgets-3.0.10-py3-none-any.whl.metadata (4.1 kB)\n",
      "Requirement already satisfied: backcall in /opt/anaconda3/envs/env_ait746_tensorflow/lib/python3.10/site-packages (from ipython>=6.1.0->ipywidgets) (0.2.0)\n",
      "Requirement already satisfied: decorator in /opt/anaconda3/envs/env_ait746_tensorflow/lib/python3.10/site-packages (from ipython>=6.1.0->ipywidgets) (5.1.1)\n",
      "Requirement already satisfied: jedi>=0.16 in /opt/anaconda3/envs/env_ait746_tensorflow/lib/python3.10/site-packages (from ipython>=6.1.0->ipywidgets) (0.18.1)\n",
      "Requirement already satisfied: matplotlib-inline in /opt/anaconda3/envs/env_ait746_tensorflow/lib/python3.10/site-packages (from ipython>=6.1.0->ipywidgets) (0.1.6)\n",
      "Requirement already satisfied: pickleshare in /opt/anaconda3/envs/env_ait746_tensorflow/lib/python3.10/site-packages (from ipython>=6.1.0->ipywidgets) (0.7.5)\n",
      "Requirement already satisfied: prompt-toolkit!=3.0.37,<3.1.0,>=3.0.30 in /opt/anaconda3/envs/env_ait746_tensorflow/lib/python3.10/site-packages (from ipython>=6.1.0->ipywidgets) (3.0.36)\n",
      "Requirement already satisfied: pygments>=2.4.0 in /opt/anaconda3/envs/env_ait746_tensorflow/lib/python3.10/site-packages (from ipython>=6.1.0->ipywidgets) (2.15.1)\n",
      "Requirement already satisfied: stack-data in /opt/anaconda3/envs/env_ait746_tensorflow/lib/python3.10/site-packages (from ipython>=6.1.0->ipywidgets) (0.2.0)\n",
      "Requirement already satisfied: exceptiongroup in /opt/anaconda3/envs/env_ait746_tensorflow/lib/python3.10/site-packages (from ipython>=6.1.0->ipywidgets) (1.0.4)\n",
      "Requirement already satisfied: pexpect>4.3 in /opt/anaconda3/envs/env_ait746_tensorflow/lib/python3.10/site-packages (from ipython>=6.1.0->ipywidgets) (4.8.0)\n",
      "Requirement already satisfied: appnope in /opt/anaconda3/envs/env_ait746_tensorflow/lib/python3.10/site-packages (from ipython>=6.1.0->ipywidgets) (0.1.2)\n",
      "Requirement already satisfied: parso<0.9.0,>=0.8.0 in /opt/anaconda3/envs/env_ait746_tensorflow/lib/python3.10/site-packages (from jedi>=0.16->ipython>=6.1.0->ipywidgets) (0.8.3)\n",
      "Requirement already satisfied: ptyprocess>=0.5 in /opt/anaconda3/envs/env_ait746_tensorflow/lib/python3.10/site-packages (from pexpect>4.3->ipython>=6.1.0->ipywidgets) (0.7.0)\n",
      "Requirement already satisfied: wcwidth in /opt/anaconda3/envs/env_ait746_tensorflow/lib/python3.10/site-packages (from prompt-toolkit!=3.0.37,<3.1.0,>=3.0.30->ipython>=6.1.0->ipywidgets) (0.2.5)\n",
      "Requirement already satisfied: executing in /opt/anaconda3/envs/env_ait746_tensorflow/lib/python3.10/site-packages (from stack-data->ipython>=6.1.0->ipywidgets) (0.8.3)\n",
      "Requirement already satisfied: asttokens in /opt/anaconda3/envs/env_ait746_tensorflow/lib/python3.10/site-packages (from stack-data->ipython>=6.1.0->ipywidgets) (2.0.5)\n",
      "Requirement already satisfied: pure-eval in /opt/anaconda3/envs/env_ait746_tensorflow/lib/python3.10/site-packages (from stack-data->ipython>=6.1.0->ipywidgets) (0.2.2)\n",
      "Requirement already satisfied: six in /opt/anaconda3/envs/env_ait746_tensorflow/lib/python3.10/site-packages (from asttokens->stack-data->ipython>=6.1.0->ipywidgets) (1.16.0)\n",
      "Downloading ipywidgets-8.1.2-py3-none-any.whl (139 kB)\n",
      "\u001b[2K   \u001b[90m━━━━━━━━━━━━━━━━━━━━━━━━━━━━━━━━━━━━━━━━\u001b[0m \u001b[32m139.4/139.4 kB\u001b[0m \u001b[31m6.3 MB/s\u001b[0m eta \u001b[36m0:00:00\u001b[0m\n",
      "\u001b[?25hDownloading comm-0.2.2-py3-none-any.whl (7.2 kB)\n",
      "Downloading jupyterlab_widgets-3.0.10-py3-none-any.whl (215 kB)\n",
      "\u001b[2K   \u001b[90m━━━━━━━━━━━━━━━━━━━━━━━━━━━━━━━━━━━━━━━━\u001b[0m \u001b[32m215.0/215.0 kB\u001b[0m \u001b[31m16.9 MB/s\u001b[0m eta \u001b[36m0:00:00\u001b[0m\n",
      "\u001b[?25hDownloading widgetsnbextension-4.0.10-py3-none-any.whl (2.3 MB)\n",
      "\u001b[2K   \u001b[90m━━━━━━━━━━━━━━━━━━━━━━━━━━━━━━━━━━━━━━━━\u001b[0m \u001b[32m2.3/2.3 MB\u001b[0m \u001b[31m40.0 MB/s\u001b[0m eta \u001b[36m0:00:00\u001b[0ma \u001b[36m0:00:01\u001b[0m\n",
      "\u001b[?25hInstalling collected packages: widgetsnbextension, jupyterlab-widgets, comm, ipywidgets\n",
      "  Attempting uninstall: comm\n",
      "    Found existing installation: comm 0.1.2\n",
      "    Uninstalling comm-0.1.2:\n",
      "      Successfully uninstalled comm-0.1.2\n",
      "Successfully installed comm-0.2.2 ipywidgets-8.1.2 jupyterlab-widgets-3.0.10 widgetsnbextension-4.0.10\n",
      "Note: you may need to restart the kernel to use updated packages.\n"
     ]
    }
   ],
   "source": [
    "pip install ipywidgets"
   ]
  },
  {
   "cell_type": "code",
   "execution_count": 10,
   "id": "0942dee4-8049-4f5c-a5fb-3de38d7da1f5",
   "metadata": {},
   "outputs": [
    {
     "name": "stdout",
     "output_type": "stream",
     "text": [
      "Collecting transformers\n",
      "  Downloading transformers-4.39.3-py3-none-any.whl.metadata (134 kB)\n",
      "\u001b[2K     \u001b[90m━━━━━━━━━━━━━━━━━━━━━━━━━━━━━━━━━━━━━━━\u001b[0m \u001b[32m134.8/134.8 kB\u001b[0m \u001b[31m6.7 MB/s\u001b[0m eta \u001b[36m0:00:00\u001b[0m\n",
      "\u001b[?25hCollecting filelock (from transformers)\n",
      "  Downloading filelock-3.13.4-py3-none-any.whl.metadata (2.8 kB)\n",
      "Collecting huggingface-hub<1.0,>=0.19.3 (from transformers)\n",
      "  Downloading huggingface_hub-0.22.2-py3-none-any.whl.metadata (12 kB)\n",
      "Requirement already satisfied: numpy>=1.17 in /opt/anaconda3/envs/env_ait746_tensorflow/lib/python3.10/site-packages (from transformers) (1.26.4)\n",
      "Requirement already satisfied: packaging>=20.0 in /opt/anaconda3/envs/env_ait746_tensorflow/lib/python3.10/site-packages (from transformers) (23.1)\n",
      "Collecting pyyaml>=5.1 (from transformers)\n",
      "  Downloading PyYAML-6.0.1-cp310-cp310-macosx_11_0_arm64.whl.metadata (2.1 kB)\n",
      "Collecting regex!=2019.12.17 (from transformers)\n",
      "  Downloading regex-2024.4.16-cp310-cp310-macosx_11_0_arm64.whl.metadata (40 kB)\n",
      "\u001b[2K     \u001b[90m━━━━━━━━━━━━━━━━━━━━━━━━━━━━━━━━━━━━━━━━\u001b[0m \u001b[32m40.9/40.9 kB\u001b[0m \u001b[31m5.9 MB/s\u001b[0m eta \u001b[36m0:00:00\u001b[0m\n",
      "\u001b[?25hRequirement already satisfied: requests in /opt/anaconda3/envs/env_ait746_tensorflow/lib/python3.10/site-packages (from transformers) (2.31.0)\n",
      "Collecting tokenizers<0.19,>=0.14 (from transformers)\n",
      "  Downloading tokenizers-0.15.2-cp310-cp310-macosx_11_0_arm64.whl.metadata (6.7 kB)\n",
      "Collecting safetensors>=0.4.1 (from transformers)\n",
      "  Downloading safetensors-0.4.3-cp310-cp310-macosx_11_0_arm64.whl.metadata (3.8 kB)\n",
      "Collecting tqdm>=4.27 (from transformers)\n",
      "  Downloading tqdm-4.66.2-py3-none-any.whl.metadata (57 kB)\n",
      "\u001b[2K     \u001b[90m━━━━━━━━━━━━━━━━━━━━━━━━━━━━━━━━━━━━━━━━\u001b[0m \u001b[32m57.6/57.6 kB\u001b[0m \u001b[31m13.0 MB/s\u001b[0m eta \u001b[36m0:00:00\u001b[0m\n",
      "\u001b[?25hCollecting fsspec>=2023.5.0 (from huggingface-hub<1.0,>=0.19.3->transformers)\n",
      "  Downloading fsspec-2024.3.1-py3-none-any.whl.metadata (6.8 kB)\n",
      "Requirement already satisfied: typing-extensions>=3.7.4.3 in /opt/anaconda3/envs/env_ait746_tensorflow/lib/python3.10/site-packages (from huggingface-hub<1.0,>=0.19.3->transformers) (4.10.0)\n",
      "Requirement already satisfied: charset-normalizer<4,>=2 in /opt/anaconda3/envs/env_ait746_tensorflow/lib/python3.10/site-packages (from requests->transformers) (3.3.2)\n",
      "Requirement already satisfied: idna<4,>=2.5 in /opt/anaconda3/envs/env_ait746_tensorflow/lib/python3.10/site-packages (from requests->transformers) (3.6)\n",
      "Requirement already satisfied: urllib3<3,>=1.21.1 in /opt/anaconda3/envs/env_ait746_tensorflow/lib/python3.10/site-packages (from requests->transformers) (2.2.1)\n",
      "Requirement already satisfied: certifi>=2017.4.17 in /opt/anaconda3/envs/env_ait746_tensorflow/lib/python3.10/site-packages (from requests->transformers) (2024.2.2)\n",
      "Downloading transformers-4.39.3-py3-none-any.whl (8.8 MB)\n",
      "\u001b[2K   \u001b[90m━━━━━━━━━━━━━━━━━━━━━━━━━━━━━━━━━━━━━━━━\u001b[0m \u001b[32m8.8/8.8 MB\u001b[0m \u001b[31m50.1 MB/s\u001b[0m eta \u001b[36m0:00:00\u001b[0ma \u001b[36m0:00:01\u001b[0m\n",
      "\u001b[?25hDownloading huggingface_hub-0.22.2-py3-none-any.whl (388 kB)\n",
      "\u001b[2K   \u001b[90m━━━━━━━━━━━━━━━━━━━━━━━━━━━━━━━━━━━━━━━━\u001b[0m \u001b[32m388.9/388.9 kB\u001b[0m \u001b[31m35.8 MB/s\u001b[0m eta \u001b[36m0:00:00\u001b[0m\n",
      "\u001b[?25hDownloading PyYAML-6.0.1-cp310-cp310-macosx_11_0_arm64.whl (169 kB)\n",
      "\u001b[2K   \u001b[90m━━━━━━━━━━━━━━━━━━━━━━━━━━━━━━━━━━━━━━━━\u001b[0m \u001b[32m169.3/169.3 kB\u001b[0m \u001b[31m14.4 MB/s\u001b[0m eta \u001b[36m0:00:00\u001b[0m\n",
      "\u001b[?25hDownloading regex-2024.4.16-cp310-cp310-macosx_11_0_arm64.whl (291 kB)\n",
      "\u001b[2K   \u001b[90m━━━━━━━━━━━━━━━━━━━━━━━━━━━━━━━━━━━━━━━━\u001b[0m \u001b[32m291.3/291.3 kB\u001b[0m \u001b[31m19.3 MB/s\u001b[0m eta \u001b[36m0:00:00\u001b[0m\n",
      "\u001b[?25hDownloading safetensors-0.4.3-cp310-cp310-macosx_11_0_arm64.whl (410 kB)\n",
      "\u001b[2K   \u001b[90m━━━━━━━━━━━━━━━━━━━━━━━━━━━━━━━━━━━━━━━━\u001b[0m \u001b[32m410.9/410.9 kB\u001b[0m \u001b[31m24.4 MB/s\u001b[0m eta \u001b[36m0:00:00\u001b[0m\n",
      "\u001b[?25hDownloading tokenizers-0.15.2-cp310-cp310-macosx_11_0_arm64.whl (2.4 MB)\n",
      "\u001b[2K   \u001b[90m━━━━━━━━━━━━━━━━━━━━━━━━━━━━━━━━━━━━━━━━\u001b[0m \u001b[32m2.4/2.4 MB\u001b[0m \u001b[31m55.1 MB/s\u001b[0m eta \u001b[36m0:00:00\u001b[0m00:01\u001b[0m\n",
      "\u001b[?25hDownloading tqdm-4.66.2-py3-none-any.whl (78 kB)\n",
      "\u001b[2K   \u001b[90m━━━━━━━━━━━━━━━━━━━━━━━━━━━━━━━━━━━━━━━━\u001b[0m \u001b[32m78.3/78.3 kB\u001b[0m \u001b[31m10.4 MB/s\u001b[0m eta \u001b[36m0:00:00\u001b[0m\n",
      "\u001b[?25hDownloading filelock-3.13.4-py3-none-any.whl (11 kB)\n",
      "Downloading fsspec-2024.3.1-py3-none-any.whl (171 kB)\n",
      "\u001b[2K   \u001b[90m━━━━━━━━━━━━━━━━━━━━━━━━━━━━━━━━━━━━━━━━\u001b[0m \u001b[32m172.0/172.0 kB\u001b[0m \u001b[31m19.4 MB/s\u001b[0m eta \u001b[36m0:00:00\u001b[0m\n",
      "\u001b[?25hInstalling collected packages: tqdm, safetensors, regex, pyyaml, fsspec, filelock, huggingface-hub, tokenizers, transformers\n",
      "Successfully installed filelock-3.13.4 fsspec-2024.3.1 huggingface-hub-0.22.2 pyyaml-6.0.1 regex-2024.4.16 safetensors-0.4.3 tokenizers-0.15.2 tqdm-4.66.2 transformers-4.39.3\n",
      "Note: you may need to restart the kernel to use updated packages.\n"
     ]
    }
   ],
   "source": [
    "pip install transformers"
   ]
  },
  {
   "cell_type": "code",
   "execution_count": 32,
   "id": "e61abed4-68b6-4e5d-838d-f95dac3f3558",
   "metadata": {},
   "outputs": [
    {
     "name": "stderr",
     "output_type": "stream",
     "text": [
      "huggingface/tokenizers: The current process just got forked, after parallelism has already been used. Disabling parallelism to avoid deadlocks...\n",
      "To disable this warning, you can either:\n",
      "\t- Avoid using `tokenizers` before the fork if possible\n",
      "\t- Explicitly set the environment variable TOKENIZERS_PARALLELISM=(true | false)\n"
     ]
    },
    {
     "name": "stdout",
     "output_type": "stream",
     "text": [
      "Collecting datasets\n",
      "  Downloading datasets-2.18.0-py3-none-any.whl.metadata (20 kB)\n",
      "Requirement already satisfied: filelock in /opt/anaconda3/envs/env_ait746_tensorflow/lib/python3.10/site-packages (from datasets) (3.13.4)\n",
      "Requirement already satisfied: numpy>=1.17 in /opt/anaconda3/envs/env_ait746_tensorflow/lib/python3.10/site-packages (from datasets) (1.26.4)\n",
      "Collecting pyarrow>=12.0.0 (from datasets)\n",
      "  Downloading pyarrow-15.0.2-cp310-cp310-macosx_11_0_arm64.whl.metadata (3.0 kB)\n",
      "Collecting pyarrow-hotfix (from datasets)\n",
      "  Downloading pyarrow_hotfix-0.6-py3-none-any.whl.metadata (3.6 kB)\n",
      "Collecting dill<0.3.9,>=0.3.0 (from datasets)\n",
      "  Downloading dill-0.3.8-py3-none-any.whl.metadata (10 kB)\n",
      "Requirement already satisfied: pandas in /opt/anaconda3/envs/env_ait746_tensorflow/lib/python3.10/site-packages (from datasets) (2.2.1)\n",
      "Requirement already satisfied: requests>=2.19.0 in /opt/anaconda3/envs/env_ait746_tensorflow/lib/python3.10/site-packages (from datasets) (2.31.0)\n",
      "Requirement already satisfied: tqdm>=4.62.1 in /opt/anaconda3/envs/env_ait746_tensorflow/lib/python3.10/site-packages (from datasets) (4.66.2)\n",
      "Collecting xxhash (from datasets)\n",
      "  Downloading xxhash-3.4.1-cp310-cp310-macosx_11_0_arm64.whl.metadata (12 kB)\n",
      "Collecting multiprocess (from datasets)\n",
      "  Downloading multiprocess-0.70.16-py310-none-any.whl.metadata (7.2 kB)\n",
      "Collecting fsspec<=2024.2.0,>=2023.1.0 (from fsspec[http]<=2024.2.0,>=2023.1.0->datasets)\n",
      "  Downloading fsspec-2024.2.0-py3-none-any.whl.metadata (6.8 kB)\n",
      "Requirement already satisfied: aiohttp in /opt/anaconda3/envs/env_ait746_tensorflow/lib/python3.10/site-packages (from datasets) (3.9.3)\n",
      "Requirement already satisfied: huggingface-hub>=0.19.4 in /opt/anaconda3/envs/env_ait746_tensorflow/lib/python3.10/site-packages (from datasets) (0.22.2)\n",
      "Requirement already satisfied: packaging in /opt/anaconda3/envs/env_ait746_tensorflow/lib/python3.10/site-packages (from datasets) (23.1)\n",
      "Requirement already satisfied: pyyaml>=5.1 in /opt/anaconda3/envs/env_ait746_tensorflow/lib/python3.10/site-packages (from datasets) (6.0.1)\n",
      "Requirement already satisfied: aiosignal>=1.1.2 in /opt/anaconda3/envs/env_ait746_tensorflow/lib/python3.10/site-packages (from aiohttp->datasets) (1.3.1)\n",
      "Requirement already satisfied: attrs>=17.3.0 in /opt/anaconda3/envs/env_ait746_tensorflow/lib/python3.10/site-packages (from aiohttp->datasets) (23.2.0)\n",
      "Requirement already satisfied: frozenlist>=1.1.1 in /opt/anaconda3/envs/env_ait746_tensorflow/lib/python3.10/site-packages (from aiohttp->datasets) (1.4.1)\n",
      "Requirement already satisfied: multidict<7.0,>=4.5 in /opt/anaconda3/envs/env_ait746_tensorflow/lib/python3.10/site-packages (from aiohttp->datasets) (6.0.5)\n",
      "Requirement already satisfied: yarl<2.0,>=1.0 in /opt/anaconda3/envs/env_ait746_tensorflow/lib/python3.10/site-packages (from aiohttp->datasets) (1.9.4)\n",
      "Requirement already satisfied: async-timeout<5.0,>=4.0 in /opt/anaconda3/envs/env_ait746_tensorflow/lib/python3.10/site-packages (from aiohttp->datasets) (4.0.3)\n",
      "Requirement already satisfied: typing-extensions>=3.7.4.3 in /opt/anaconda3/envs/env_ait746_tensorflow/lib/python3.10/site-packages (from huggingface-hub>=0.19.4->datasets) (4.10.0)\n",
      "Requirement already satisfied: charset-normalizer<4,>=2 in /opt/anaconda3/envs/env_ait746_tensorflow/lib/python3.10/site-packages (from requests>=2.19.0->datasets) (3.3.2)\n",
      "Requirement already satisfied: idna<4,>=2.5 in /opt/anaconda3/envs/env_ait746_tensorflow/lib/python3.10/site-packages (from requests>=2.19.0->datasets) (3.6)\n",
      "Requirement already satisfied: urllib3<3,>=1.21.1 in /opt/anaconda3/envs/env_ait746_tensorflow/lib/python3.10/site-packages (from requests>=2.19.0->datasets) (2.2.1)\n",
      "Requirement already satisfied: certifi>=2017.4.17 in /opt/anaconda3/envs/env_ait746_tensorflow/lib/python3.10/site-packages (from requests>=2.19.0->datasets) (2024.2.2)\n",
      "Requirement already satisfied: python-dateutil>=2.8.2 in /opt/anaconda3/envs/env_ait746_tensorflow/lib/python3.10/site-packages (from pandas->datasets) (2.8.2)\n",
      "Requirement already satisfied: pytz>=2020.1 in /opt/anaconda3/envs/env_ait746_tensorflow/lib/python3.10/site-packages (from pandas->datasets) (2024.1)\n",
      "Requirement already satisfied: tzdata>=2022.7 in /opt/anaconda3/envs/env_ait746_tensorflow/lib/python3.10/site-packages (from pandas->datasets) (2024.1)\n",
      "Requirement already satisfied: six>=1.5 in /opt/anaconda3/envs/env_ait746_tensorflow/lib/python3.10/site-packages (from python-dateutil>=2.8.2->pandas->datasets) (1.16.0)\n",
      "Downloading datasets-2.18.0-py3-none-any.whl (510 kB)\n",
      "\u001b[2K   \u001b[90m━━━━━━━━━━━━━━━━━━━━━━━━━━━━━━━━━━━━━━━━\u001b[0m \u001b[32m510.5/510.5 kB\u001b[0m \u001b[31m11.8 MB/s\u001b[0m eta \u001b[36m0:00:00\u001b[0m00:01\u001b[0m\n",
      "\u001b[?25hDownloading dill-0.3.8-py3-none-any.whl (116 kB)\n",
      "\u001b[2K   \u001b[90m━━━━━━━━━━━━━━━━━━━━━━━━━━━━━━━━━━━━━━━━\u001b[0m \u001b[32m116.3/116.3 kB\u001b[0m \u001b[31m28.3 MB/s\u001b[0m eta \u001b[36m0:00:00\u001b[0m\n",
      "\u001b[?25hDownloading fsspec-2024.2.0-py3-none-any.whl (170 kB)\n",
      "\u001b[2K   \u001b[90m━━━━━━━━━━━━━━━━━━━━━━━━━━━━━━━━━━━━━━━━\u001b[0m \u001b[32m170.9/170.9 kB\u001b[0m \u001b[31m27.6 MB/s\u001b[0m eta \u001b[36m0:00:00\u001b[0m\n",
      "\u001b[?25hDownloading pyarrow-15.0.2-cp310-cp310-macosx_11_0_arm64.whl (24.2 MB)\n",
      "\u001b[2K   \u001b[90m━━━━━━━━━━━━━━━━━━━━━━━━━━━━━━━━━━━━━━━━\u001b[0m \u001b[32m24.2/24.2 MB\u001b[0m \u001b[31m60.7 MB/s\u001b[0m eta \u001b[36m0:00:00\u001b[0m00:01\u001b[0m00:01\u001b[0m\n",
      "\u001b[?25hDownloading multiprocess-0.70.16-py310-none-any.whl (134 kB)\n",
      "\u001b[2K   \u001b[90m━━━━━━━━━━━━━━━━━━━━━━━━━━━━━━━━━━━━━━━━\u001b[0m \u001b[32m134.8/134.8 kB\u001b[0m \u001b[31m9.4 MB/s\u001b[0m eta \u001b[36m0:00:00\u001b[0m\n",
      "\u001b[?25hDownloading pyarrow_hotfix-0.6-py3-none-any.whl (7.9 kB)\n",
      "Downloading xxhash-3.4.1-cp310-cp310-macosx_11_0_arm64.whl (30 kB)\n",
      "Installing collected packages: xxhash, pyarrow-hotfix, pyarrow, fsspec, dill, multiprocess, datasets\n",
      "  Attempting uninstall: fsspec\n",
      "    Found existing installation: fsspec 2024.3.1\n",
      "    Uninstalling fsspec-2024.3.1:\n",
      "      Successfully uninstalled fsspec-2024.3.1\n",
      "Successfully installed datasets-2.18.0 dill-0.3.8 fsspec-2024.2.0 multiprocess-0.70.16 pyarrow-15.0.2 pyarrow-hotfix-0.6 xxhash-3.4.1\n",
      "Note: you may need to restart the kernel to use updated packages.\n"
     ]
    }
   ],
   "source": [
    "pip install datasets"
   ]
  },
  {
   "cell_type": "code",
   "execution_count": 7,
   "id": "90af5423-74f1-4e57-baeb-b6c1b6f0297b",
   "metadata": {},
   "outputs": [],
   "source": [
    "from tensorflow import keras"
   ]
  },
  {
   "cell_type": "code",
   "execution_count": 8,
   "id": "273735a3-fc32-4159-b9aa-3076e4b417de",
   "metadata": {
    "tags": []
   },
   "outputs": [],
   "source": [
    "from transformers import pipeline"
   ]
  },
  {
   "cell_type": "markdown",
   "id": "f74d91f9-b380-415e-aed4-688a4b5a1dcc",
   "metadata": {},
   "source": [
    "1) (Skip this step) The first step is to create a dedicated virtual environment, where we can install the transformer library. In my case, I use the library for TensorFlow 2.0:"
   ]
  },
  {
   "cell_type": "markdown",
   "id": "fe60a172-cecb-4bfd-b4e5-460a298f220c",
   "metadata": {},
   "source": [
    "2. (Skip this step) Then let’s verify that everything is working correctly by downloading a pretrained model used for sentiment analysis:"
   ]
  },
  {
   "cell_type": "markdown",
   "id": "411e6b12-0974-42a0-b749-f6168a04a4c3",
   "metadata": {},
   "source": [
    "3. Now let’s focus on generating text with GPT-2:"
   ]
  },
  {
   "cell_type": "code",
   "execution_count": 15,
   "id": "0ebbe5e8-d59a-41d4-83f8-141a8425fcbd",
   "metadata": {},
   "outputs": [
    {
     "name": "stderr",
     "output_type": "stream",
     "text": [
      "All PyTorch model weights were used when initializing TFGPT2LMHeadModel.\n",
      "\n",
      "All the weights of TFGPT2LMHeadModel were initialized from the PyTorch model.\n",
      "If your task is similar to the task the model of the checkpoint was trained on, you can already use TFGPT2LMHeadModel for predictions without further training.\n"
     ]
    }
   ],
   "source": [
    "generator = pipeline(model='gpt2', task=\"text-generation\")"
   ]
  },
  {
   "cell_type": "markdown",
   "id": "73cb5b6f-6eee-4b73-8495-dc3467636b94",
   "metadata": {},
   "source": [
    "4. Let’s pass some text to the generator and see what the result is. The first sentence is extracted from Tolkien’s work, the second from Einstein’s theories, and the third one comes from “Harry Potter”:"
   ]
  },
  {
   "cell_type": "code",
   "execution_count": 16,
   "id": "952829fc-75a4-4134-b662-b0a26b5dfa04",
   "metadata": {},
   "outputs": [
    {
     "name": "stderr",
     "output_type": "stream",
     "text": [
      "Setting `pad_token_id` to `eos_token_id`:50256 for open-end generation.\n"
     ]
    },
    {
     "data": {
      "text/plain": [
       "[{'generated_text': 'Three Rings for the Elven-kings under the sky, Seven for the Dwarf-lords in their halls of stone, and Nine for the High Elves in their chambers, and, finally, Ten for the Dragon-king of Cimmeria to follow'}]"
      ]
     },
     "execution_count": 16,
     "metadata": {},
     "output_type": "execute_result"
    }
   ],
   "source": [
    "# Fill in the text based on the instructions in the guided textbook\n",
    "generator(\"Three Rings for the Elven-kings under the sky, Seven for the Dwarf-lords in their halls of stone\")"
   ]
  },
  {
   "cell_type": "code",
   "execution_count": 17,
   "id": "ba428958-0a5f-40b6-9ed2-aee400285299",
   "metadata": {},
   "outputs": [
    {
     "name": "stderr",
     "output_type": "stream",
     "text": [
      "Setting `pad_token_id` to `eos_token_id`:50256 for open-end generation.\n"
     ]
    },
    {
     "data": {
      "text/plain": [
       "[{'generated_text': 'The original theory of relativity is based upon the premise that all coordinate systems in relative uniform translatory motion to each other are equally valid and equivalent \\xa0to each other.\\xa0 This allows us to define which of two coordinate systems are a valid coordinate system'}]"
      ]
     },
     "execution_count": 17,
     "metadata": {},
     "output_type": "execute_result"
    }
   ],
   "source": [
    "# Fill in the text based on the instructions in the guided textbook\n",
    "generator(\"The original theory of relativity is based upon the premise that all coordinate systems in relative uniform translatory motion to each other are equally valid and equivalent \")"
   ]
  },
  {
   "cell_type": "code",
   "execution_count": 18,
   "id": "e7aa185f-f27e-4cd8-895f-f5476ffd85ad",
   "metadata": {},
   "outputs": [
    {
     "name": "stderr",
     "output_type": "stream",
     "text": [
      "Setting `pad_token_id` to `eos_token_id`:50256 for open-end generation.\n"
     ]
    },
    {
     "data": {
      "text/plain": [
       "[{'generated_text': 'It takes a great deal of bravery to stand up to our enemies and win a war with a small number of guys who are all dead.\\n\\n\"There\\'s a lot of people who will be brave enough to leave a lot of these guys behind'}]"
      ]
     },
     "execution_count": 18,
     "metadata": {},
     "output_type": "execute_result"
    }
   ],
   "source": [
    "# Fill in the text based on the instructions in the guided textbook\n",
    "generator(\"It takes a great deal of bravery to stand up to our enemies\")"
   ]
  },
  {
   "cell_type": "markdown",
   "id": "c3a84a84-7c02-4206-94e0-8f0564b950d2",
   "metadata": {
    "tags": []
   },
   "source": [
    "# Autoselecting a model and autokenization"
   ]
  },
  {
   "cell_type": "markdown",
   "id": "64a293f2-418f-4ec7-a75e-cd549fa72648",
   "metadata": {},
   "source": [
    "1. You can easily import a pretrained model among the several dozen available. "
   ]
  },
  {
   "cell_type": "code",
   "execution_count": 19,
   "id": "111ed4ce-dfcf-4ac7-8cfd-4c5aec412abf",
   "metadata": {},
   "outputs": [],
   "source": [
    "from transformers import TFAutoModelForSequenceClassification"
   ]
  },
  {
   "cell_type": "code",
   "execution_count": 20,
   "id": "6d8e5dff-28eb-4d7a-994c-6e329ed2b9d3",
   "metadata": {},
   "outputs": [
    {
     "name": "stderr",
     "output_type": "stream",
     "text": [
      "Some weights of the PyTorch model were not used when initializing the TF 2.0 model TFDistilBertForSequenceClassification: ['vocab_layer_norm.bias', 'vocab_transform.bias', 'vocab_transform.weight', 'vocab_layer_norm.weight', 'vocab_projector.bias']\n",
      "- This IS expected if you are initializing TFDistilBertForSequenceClassification from a PyTorch model trained on another task or with another architecture (e.g. initializing a TFBertForSequenceClassification model from a BertForPreTraining model).\n",
      "- This IS NOT expected if you are initializing TFDistilBertForSequenceClassification from a PyTorch model that you expect to be exactly identical (e.g. initializing a TFBertForSequenceClassification model from a BertForSequenceClassification model).\n",
      "Some weights or buffers of the TF 2.0 model TFDistilBertForSequenceClassification were not initialized from the PyTorch model and are newly initialized: ['pre_classifier.weight', 'pre_classifier.bias', 'classifier.weight', 'classifier.bias']\n",
      "You should probably TRAIN this model on a down-stream task to be able to use it for predictions and inference.\n"
     ]
    }
   ],
   "source": [
    "model = TFAutoModelForSequenceClassification.from_pretrained(\"distilbert-base-uncased\")"
   ]
  },
  {
   "cell_type": "markdown",
   "id": "155cdddc-0620-4e55-afef-dcb308d6cc9e",
   "metadata": {},
   "source": [
    "2. You can use AutoTokenizer to transform words into tokens used by the models:"
   ]
  },
  {
   "cell_type": "code",
   "execution_count": 21,
   "id": "ecb1f2f7-c309-4442-b7a8-eb38e27e12e0",
   "metadata": {},
   "outputs": [],
   "source": [
    "from transformers import AutoTokenizer"
   ]
  },
  {
   "cell_type": "code",
   "execution_count": 22,
   "id": "e9b3257f-c187-44ee-99b9-5358a581fe90",
   "metadata": {},
   "outputs": [
    {
     "name": "stdout",
     "output_type": "stream",
     "text": [
      "{'input_ids': [101, 1996, 2434, 3399, 1997, 20805, 2003, 2241, 2588, 1996, 18458, 2008, 2035, 13530, 3001, 102], 'token_type_ids': [0, 0, 0, 0, 0, 0, 0, 0, 0, 0, 0, 0, 0, 0, 0, 0], 'attention_mask': [1, 1, 1, 1, 1, 1, 1, 1, 1, 1, 1, 1, 1, 1, 1, 1]}\n"
     ]
    }
   ],
   "source": [
    "tokenizer = AutoTokenizer.from_pretrained(\"bert-base-uncased\")\n",
    "sequence = \"The original theory of relativity is based upon the premise that all coordinate systems\"\n",
    "print(tokenizer(sequence))"
   ]
  },
  {
   "cell_type": "markdown",
   "id": "488eede5-a6eb-47b4-bb9d-65d4eaffa574",
   "metadata": {
    "tags": []
   },
   "source": [
    "# Named entity recognition"
   ]
  },
  {
   "cell_type": "markdown",
   "id": "d9a63260-bce2-4f46-a78e-9eab7e87b41b",
   "metadata": {},
   "source": [
    "1. First of all, let’s create a NER pipeline:"
   ]
  },
  {
   "cell_type": "code",
   "execution_count": 23,
   "id": "bc570343-9c62-47f9-be9a-ac7f293826e8",
   "metadata": {},
   "outputs": [],
   "source": [
    "from transformers import pipeline"
   ]
  },
  {
   "cell_type": "code",
   "execution_count": 24,
   "id": "f473222c-049d-4a85-8700-252eae1bc906",
   "metadata": {},
   "outputs": [
    {
     "name": "stderr",
     "output_type": "stream",
     "text": [
      "No model was supplied, defaulted to dbmdz/bert-large-cased-finetuned-conll03-english and revision f2482bf (https://huggingface.co/dbmdz/bert-large-cased-finetuned-conll03-english).\n",
      "Using a pipeline without specifying a model name and revision in production is not recommended.\n",
      "All PyTorch model weights were used when initializing TFBertForTokenClassification.\n",
      "\n",
      "All the weights of TFBertForTokenClassification were initialized from the PyTorch model.\n",
      "If your task is similar to the task the model of the checkpoint was trained on, you can already use TFBertForTokenClassification for predictions without further training.\n"
     ]
    },
    {
     "name": "stdout",
     "output_type": "stream",
     "text": [
      "{'entity': 'I-PER', 'score': 0.99908304, 'index': 6, 'word': 'Du', 'start': 13, 'end': 15}\n",
      "{'entity': 'I-PER', 'score': 0.9869528, 'index': 7, 'word': '##rs', 'start': 15, 'end': 17}\n",
      "{'entity': 'I-PER', 'score': 0.9784202, 'index': 8, 'word': '##ley', 'start': 17, 'end': 20}\n",
      "{'entity': 'I-ORG', 'score': 0.6860217, 'index': 14, 'word': 'P', 'start': 38, 'end': 39}\n",
      "{'entity': 'I-ORG', 'score': 0.77135646, 'index': 15, 'word': '##rive', 'start': 39, 'end': 43}\n",
      "{'entity': 'I-ORG', 'score': 0.76567775, 'index': 16, 'word': '##t', 'start': 43, 'end': 44}\n",
      "{'entity': 'I-ORG', 'score': 0.80872023, 'index': 17, 'word': 'Drive', 'start': 45, 'end': 50}\n"
     ]
    }
   ],
   "source": [
    "ner_pipe = pipeline(\"ner\")\n",
    "sequence = \"\"\"Mr. and Mrs. Dursley, of number four, Privet Drive, were proud to say that they were perfectly normal, thank you very much.\"\"\"\n",
    "for entity in ner_pipe(sequence):\n",
    "    print(entity) "
   ]
  },
  {
   "cell_type": "code",
   "execution_count": 26,
   "id": "b0bedb7b-5238-4b86-bebb-bea6b797507a",
   "metadata": {},
   "outputs": [
    {
     "name": "stdout",
     "output_type": "stream",
     "text": [
      "{'entity': 'I-PER', 'score': 0.99940467, 'index': 4, 'word': 'Ryan', 'start': 11, 'end': 15}\n",
      "{'entity': 'I-PER', 'score': 0.99929476, 'index': 5, 'word': 'E', 'start': 16, 'end': 17}\n",
      "{'entity': 'I-PER', 'score': 0.96874845, 'index': 6, 'word': '##aki', 'start': 17, 'end': 20}\n",
      "{'entity': 'I-PER', 'score': 0.99760926, 'index': 7, 'word': '##ns', 'start': 20, 'end': 22}\n",
      "{'entity': 'I-ORG', 'score': 0.9990646, 'index': 12, 'word': 'George', 'start': 35, 'end': 41}\n",
      "{'entity': 'I-ORG', 'score': 0.9978404, 'index': 13, 'word': 'Mason', 'start': 42, 'end': 47}\n",
      "{'entity': 'I-ORG', 'score': 0.9932249, 'index': 14, 'word': 'University', 'start': 48, 'end': 58}\n"
     ]
    }
   ],
   "source": [
    "# Now enter a new sequence like saying your name and what univeristy you go to. Did it get all the elemtn?\n",
    "sequence = \"My name is Ryan Eakins and I go to George Mason University.\"\n",
    "for entity in ner_pipe(sequence):\n",
    "    print(entity) "
   ]
  },
  {
   "cell_type": "markdown",
   "id": "9269dcaf-6199-42a2-90b8-bc6c4d1d0e8e",
   "metadata": {
    "tags": []
   },
   "source": [
    "# Summarization"
   ]
  },
  {
   "cell_type": "markdown",
   "id": "154afbcd-fefa-41e4-b63d-49867917fb56",
   "metadata": {},
   "source": [
    "1. First of all, let’s create a summarization pipeline using the default T5 small model:"
   ]
  },
  {
   "cell_type": "code",
   "execution_count": 27,
   "id": "d5466898-e0f4-4711-acb3-f5504327920a",
   "metadata": {},
   "outputs": [
    {
     "name": "stderr",
     "output_type": "stream",
     "text": [
      "No model was supplied, defaulted to google-t5/t5-small and revision d769bba (https://huggingface.co/google-t5/t5-small).\n",
      "Using a pipeline without specifying a model name and revision in production is not recommended.\n",
      "All PyTorch model weights were used when initializing TFT5ForConditionalGeneration.\n",
      "\n",
      "All the weights of TFT5ForConditionalGeneration were initialized from the PyTorch model.\n",
      "If your task is similar to the task the model of the checkpoint was trained on, you can already use TFT5ForConditionalGeneration for predictions without further training.\n",
      "2024-04-18 09:48:16.367466: E ./tensorflow/core/kernels/cast_op_impl.h:64] IMPORTANT! The input tensor to Cast contains values out of range for the target type. This is undefined behavior and likely a bug in your model. A crash immediately after this under ubsan is expected.\n",
      "2024-04-18 09:48:16.421121: E ./tensorflow/core/kernels/cast_op_impl.h:64] IMPORTANT! The input tensor to Cast contains values out of range for the target type. This is undefined behavior and likely a bug in your model. A crash immediately after this under ubsan is expected.\n",
      "2024-04-18 09:48:16.499493: E ./tensorflow/core/kernels/cast_op_impl.h:64] IMPORTANT! The input tensor to Cast contains values out of range for the target type. This is undefined behavior and likely a bug in your model. A crash immediately after this under ubsan is expected.\n",
      "2024-04-18 09:48:16.508359: I external/local_xla/xla/service/service.cc:168] XLA service 0x6000006ffa00 initialized for platform Host (this does not guarantee that XLA will be used). Devices:\n",
      "2024-04-18 09:48:16.508364: I external/local_xla/xla/service/service.cc:176]   StreamExecutor device (0): Host, Default Version\n",
      "2024-04-18 09:48:16.542140: I tensorflow/compiler/mlir/tensorflow/utils/dump_mlir_util.cc:269] disabling MLIR crash reproducer, set env var `MLIR_CRASH_REPRODUCER_DIRECTORY` to enable.\n",
      "WARNING: All log messages before absl::InitializeLog() is called are written to STDERR\n",
      "I0000 00:00:1713448096.715992 4299614 device_compiler.h:186] Compiled cluster using XLA!  This line is logged at most once for the lifetime of the process.\n",
      "2024-04-18 09:48:16.717074: E external/local_xla/xla/stream_executor/stream_executor_internal.h:177] SetPriority unimplemented for this stream.\n",
      "2024-04-18 09:48:16.771857: E ./tensorflow/core/kernels/cast_op_impl.h:64] IMPORTANT! The input tensor to Cast contains values out of range for the target type. This is undefined behavior and likely a bug in your model. A crash immediately after this under ubsan is expected.\n",
      "2024-04-18 09:48:16.839577: E ./tensorflow/core/kernels/cast_op_impl.h:64] IMPORTANT! The input tensor to Cast contains values out of range for the target type. This is undefined behavior and likely a bug in your model. A crash immediately after this under ubsan is expected.\n",
      "2024-04-18 09:48:16.899487: E ./tensorflow/core/kernels/cast_op_impl.h:64] IMPORTANT! The input tensor to Cast contains values out of range for the target type. This is undefined behavior and likely a bug in your model. A crash immediately after this under ubsan is expected.\n",
      "2024-04-18 09:48:16.959119: E ./tensorflow/core/kernels/cast_op_impl.h:64] IMPORTANT! The input tensor to Cast contains values out of range for the target type. This is undefined behavior and likely a bug in your model. A crash immediately after this under ubsan is expected.\n",
      "2024-04-18 09:48:17.018372: E ./tensorflow/core/kernels/cast_op_impl.h:64] IMPORTANT! The input tensor to Cast contains values out of range for the target type. This is undefined behavior and likely a bug in your model. A crash immediately after this under ubsan is expected.\n",
      "2024-04-18 09:48:17.079504: E ./tensorflow/core/kernels/cast_op_impl.h:64] IMPORTANT! The input tensor to Cast contains values out of range for the target type. This is undefined behavior and likely a bug in your model. A crash immediately after this under ubsan is expected.\n",
      "2024-04-18 09:48:17.141101: E ./tensorflow/core/kernels/cast_op_impl.h:64] IMPORTANT! The input tensor to Cast contains values out of range for the target type. This is undefined behavior and likely a bug in your model. A crash immediately after this under ubsan is expected.\n",
      "2024-04-18 09:48:17.203990: E ./tensorflow/core/kernels/cast_op_impl.h:64] IMPORTANT! The input tensor to Cast contains values out of range for the target type. This is undefined behavior and likely a bug in your model. A crash immediately after this under ubsan is expected.\n",
      "2024-04-18 09:48:17.265789: E ./tensorflow/core/kernels/cast_op_impl.h:64] IMPORTANT! The input tensor to Cast contains values out of range for the target type. This is undefined behavior and likely a bug in your model. A crash immediately after this under ubsan is expected.\n",
      "2024-04-18 09:48:17.326693: E ./tensorflow/core/kernels/cast_op_impl.h:64] IMPORTANT! The input tensor to Cast contains values out of range for the target type. This is undefined behavior and likely a bug in your model. A crash immediately after this under ubsan is expected.\n",
      "2024-04-18 09:48:17.386191: E ./tensorflow/core/kernels/cast_op_impl.h:64] IMPORTANT! The input tensor to Cast contains values out of range for the target type. This is undefined behavior and likely a bug in your model. A crash immediately after this under ubsan is expected.\n",
      "2024-04-18 09:48:17.446246: E ./tensorflow/core/kernels/cast_op_impl.h:64] IMPORTANT! The input tensor to Cast contains values out of range for the target type. This is undefined behavior and likely a bug in your model. A crash immediately after this under ubsan is expected.\n",
      "2024-04-18 09:48:17.506828: E ./tensorflow/core/kernels/cast_op_impl.h:64] IMPORTANT! The input tensor to Cast contains values out of range for the target type. This is undefined behavior and likely a bug in your model. A crash immediately after this under ubsan is expected.\n",
      "2024-04-18 09:48:17.568588: E ./tensorflow/core/kernels/cast_op_impl.h:64] IMPORTANT! The input tensor to Cast contains values out of range for the target type. This is undefined behavior and likely a bug in your model. A crash immediately after this under ubsan is expected.\n",
      "2024-04-18 09:48:17.631387: E ./tensorflow/core/kernels/cast_op_impl.h:64] IMPORTANT! The input tensor to Cast contains values out of range for the target type. This is undefined behavior and likely a bug in your model. A crash immediately after this under ubsan is expected.\n",
      "2024-04-18 09:48:17.696849: E ./tensorflow/core/kernels/cast_op_impl.h:64] IMPORTANT! The input tensor to Cast contains values out of range for the target type. This is undefined behavior and likely a bug in your model. A crash immediately after this under ubsan is expected.\n",
      "2024-04-18 09:48:17.757140: E ./tensorflow/core/kernels/cast_op_impl.h:64] IMPORTANT! The input tensor to Cast contains values out of range for the target type. This is undefined behavior and likely a bug in your model. A crash immediately after this under ubsan is expected.\n",
      "2024-04-18 09:48:17.816623: E ./tensorflow/core/kernels/cast_op_impl.h:64] IMPORTANT! The input tensor to Cast contains values out of range for the target type. This is undefined behavior and likely a bug in your model. A crash immediately after this under ubsan is expected.\n",
      "2024-04-18 09:48:17.875939: E ./tensorflow/core/kernels/cast_op_impl.h:64] IMPORTANT! The input tensor to Cast contains values out of range for the target type. This is undefined behavior and likely a bug in your model. A crash immediately after this under ubsan is expected.\n",
      "2024-04-18 09:48:17.936641: E ./tensorflow/core/kernels/cast_op_impl.h:64] IMPORTANT! The input tensor to Cast contains values out of range for the target type. This is undefined behavior and likely a bug in your model. A crash immediately after this under ubsan is expected.\n",
      "2024-04-18 09:48:17.995866: E ./tensorflow/core/kernels/cast_op_impl.h:64] IMPORTANT! The input tensor to Cast contains values out of range for the target type. This is undefined behavior and likely a bug in your model. A crash immediately after this under ubsan is expected.\n",
      "2024-04-18 09:48:18.055441: E ./tensorflow/core/kernels/cast_op_impl.h:64] IMPORTANT! The input tensor to Cast contains values out of range for the target type. This is undefined behavior and likely a bug in your model. A crash immediately after this under ubsan is expected.\n",
      "2024-04-18 09:48:18.117536: E ./tensorflow/core/kernels/cast_op_impl.h:64] IMPORTANT! The input tensor to Cast contains values out of range for the target type. This is undefined behavior and likely a bug in your model. A crash immediately after this under ubsan is expected.\n",
      "2024-04-18 09:48:18.179973: E ./tensorflow/core/kernels/cast_op_impl.h:64] IMPORTANT! The input tensor to Cast contains values out of range for the target type. This is undefined behavior and likely a bug in your model. A crash immediately after this under ubsan is expected.\n",
      "2024-04-18 09:48:18.241153: E ./tensorflow/core/kernels/cast_op_impl.h:64] IMPORTANT! The input tensor to Cast contains values out of range for the target type. This is undefined behavior and likely a bug in your model. A crash immediately after this under ubsan is expected.\n",
      "2024-04-18 09:48:18.301083: E ./tensorflow/core/kernels/cast_op_impl.h:64] IMPORTANT! The input tensor to Cast contains values out of range for the target type. This is undefined behavior and likely a bug in your model. A crash immediately after this under ubsan is expected.\n",
      "2024-04-18 09:48:18.360794: E ./tensorflow/core/kernels/cast_op_impl.h:64] IMPORTANT! The input tensor to Cast contains values out of range for the target type. This is undefined behavior and likely a bug in your model. A crash immediately after this under ubsan is expected.\n",
      "2024-04-18 09:48:18.424252: E ./tensorflow/core/kernels/cast_op_impl.h:64] IMPORTANT! The input tensor to Cast contains values out of range for the target type. This is undefined behavior and likely a bug in your model. A crash immediately after this under ubsan is expected.\n",
      "2024-04-18 09:48:18.488061: E ./tensorflow/core/kernels/cast_op_impl.h:64] IMPORTANT! The input tensor to Cast contains values out of range for the target type. This is undefined behavior and likely a bug in your model. A crash immediately after this under ubsan is expected.\n",
      "2024-04-18 09:48:18.551798: E ./tensorflow/core/kernels/cast_op_impl.h:64] IMPORTANT! The input tensor to Cast contains values out of range for the target type. This is undefined behavior and likely a bug in your model. A crash immediately after this under ubsan is expected.\n",
      "2024-04-18 09:48:18.613765: E ./tensorflow/core/kernels/cast_op_impl.h:64] IMPORTANT! The input tensor to Cast contains values out of range for the target type. This is undefined behavior and likely a bug in your model. A crash immediately after this under ubsan is expected.\n",
      "2024-04-18 09:48:18.679450: E ./tensorflow/core/kernels/cast_op_impl.h:64] IMPORTANT! The input tensor to Cast contains values out of range for the target type. This is undefined behavior and likely a bug in your model. A crash immediately after this under ubsan is expected.\n",
      "2024-04-18 09:48:18.740979: E ./tensorflow/core/kernels/cast_op_impl.h:64] IMPORTANT! The input tensor to Cast contains values out of range for the target type. This is undefined behavior and likely a bug in your model. A crash immediately after this under ubsan is expected.\n",
      "2024-04-18 09:48:18.801571: E ./tensorflow/core/kernels/cast_op_impl.h:64] IMPORTANT! The input tensor to Cast contains values out of range for the target type. This is undefined behavior and likely a bug in your model. A crash immediately after this under ubsan is expected.\n",
      "2024-04-18 09:48:18.861473: E ./tensorflow/core/kernels/cast_op_impl.h:64] IMPORTANT! The input tensor to Cast contains values out of range for the target type. This is undefined behavior and likely a bug in your model. A crash immediately after this under ubsan is expected.\n",
      "2024-04-18 09:48:18.926242: E ./tensorflow/core/kernels/cast_op_impl.h:64] IMPORTANT! The input tensor to Cast contains values out of range for the target type. This is undefined behavior and likely a bug in your model. A crash immediately after this under ubsan is expected.\n",
      "2024-04-18 09:48:18.991504: E ./tensorflow/core/kernels/cast_op_impl.h:64] IMPORTANT! The input tensor to Cast contains values out of range for the target type. This is undefined behavior and likely a bug in your model. A crash immediately after this under ubsan is expected.\n",
      "2024-04-18 09:48:19.055370: E ./tensorflow/core/kernels/cast_op_impl.h:64] IMPORTANT! The input tensor to Cast contains values out of range for the target type. This is undefined behavior and likely a bug in your model. A crash immediately after this under ubsan is expected.\n",
      "2024-04-18 09:48:19.118346: E ./tensorflow/core/kernels/cast_op_impl.h:64] IMPORTANT! The input tensor to Cast contains values out of range for the target type. This is undefined behavior and likely a bug in your model. A crash immediately after this under ubsan is expected.\n",
      "2024-04-18 09:48:19.181822: E ./tensorflow/core/kernels/cast_op_impl.h:64] IMPORTANT! The input tensor to Cast contains values out of range for the target type. This is undefined behavior and likely a bug in your model. A crash immediately after this under ubsan is expected.\n",
      "2024-04-18 09:48:19.242752: E ./tensorflow/core/kernels/cast_op_impl.h:64] IMPORTANT! The input tensor to Cast contains values out of range for the target type. This is undefined behavior and likely a bug in your model. A crash immediately after this under ubsan is expected.\n",
      "2024-04-18 09:48:19.302796: E ./tensorflow/core/kernels/cast_op_impl.h:64] IMPORTANT! The input tensor to Cast contains values out of range for the target type. This is undefined behavior and likely a bug in your model. A crash immediately after this under ubsan is expected.\n",
      "2024-04-18 09:48:19.362863: E ./tensorflow/core/kernels/cast_op_impl.h:64] IMPORTANT! The input tensor to Cast contains values out of range for the target type. This is undefined behavior and likely a bug in your model. A crash immediately after this under ubsan is expected.\n",
      "2024-04-18 09:48:19.423916: E ./tensorflow/core/kernels/cast_op_impl.h:64] IMPORTANT! The input tensor to Cast contains values out of range for the target type. This is undefined behavior and likely a bug in your model. A crash immediately after this under ubsan is expected.\n",
      "2024-04-18 09:48:19.483908: E ./tensorflow/core/kernels/cast_op_impl.h:64] IMPORTANT! The input tensor to Cast contains values out of range for the target type. This is undefined behavior and likely a bug in your model. A crash immediately after this under ubsan is expected.\n",
      "2024-04-18 09:48:19.543843: E ./tensorflow/core/kernels/cast_op_impl.h:64] IMPORTANT! The input tensor to Cast contains values out of range for the target type. This is undefined behavior and likely a bug in your model. A crash immediately after this under ubsan is expected.\n",
      "2024-04-18 09:48:19.603207: E ./tensorflow/core/kernels/cast_op_impl.h:64] IMPORTANT! The input tensor to Cast contains values out of range for the target type. This is undefined behavior and likely a bug in your model. A crash immediately after this under ubsan is expected.\n",
      "2024-04-18 09:48:19.664195: E ./tensorflow/core/kernels/cast_op_impl.h:64] IMPORTANT! The input tensor to Cast contains values out of range for the target type. This is undefined behavior and likely a bug in your model. A crash immediately after this under ubsan is expected.\n",
      "2024-04-18 09:48:19.725369: E ./tensorflow/core/kernels/cast_op_impl.h:64] IMPORTANT! The input tensor to Cast contains values out of range for the target type. This is undefined behavior and likely a bug in your model. A crash immediately after this under ubsan is expected.\n",
      "2024-04-18 09:48:19.785365: E ./tensorflow/core/kernels/cast_op_impl.h:64] IMPORTANT! The input tensor to Cast contains values out of range for the target type. This is undefined behavior and likely a bug in your model. A crash immediately after this under ubsan is expected.\n",
      "2024-04-18 09:48:19.845012: E ./tensorflow/core/kernels/cast_op_impl.h:64] IMPORTANT! The input tensor to Cast contains values out of range for the target type. This is undefined behavior and likely a bug in your model. A crash immediately after this under ubsan is expected.\n",
      "2024-04-18 09:48:19.905628: E ./tensorflow/core/kernels/cast_op_impl.h:64] IMPORTANT! The input tensor to Cast contains values out of range for the target type. This is undefined behavior and likely a bug in your model. A crash immediately after this under ubsan is expected.\n",
      "2024-04-18 09:48:19.966684: E ./tensorflow/core/kernels/cast_op_impl.h:64] IMPORTANT! The input tensor to Cast contains values out of range for the target type. This is undefined behavior and likely a bug in your model. A crash immediately after this under ubsan is expected.\n",
      "2024-04-18 09:48:20.029710: E ./tensorflow/core/kernels/cast_op_impl.h:64] IMPORTANT! The input tensor to Cast contains values out of range for the target type. This is undefined behavior and likely a bug in your model. A crash immediately after this under ubsan is expected.\n",
      "2024-04-18 09:48:20.091919: E ./tensorflow/core/kernels/cast_op_impl.h:64] IMPORTANT! The input tensor to Cast contains values out of range for the target type. This is undefined behavior and likely a bug in your model. A crash immediately after this under ubsan is expected.\n"
     ]
    },
    {
     "name": "stdout",
     "output_type": "stream",
     "text": [
      "[{'summary_text': \"Mr. and Mrs. Dursley, of number four, were the last people you'd expect to be involved in anything strange or mysterious . the Dursleys had a small son called Dudley and in their opinion there was no finer boy anywhere .\"}]\n"
     ]
    },
    {
     "name": "stderr",
     "output_type": "stream",
     "text": [
      "2024-04-18 09:48:20.157213: E ./tensorflow/core/kernels/cast_op_impl.h:64] IMPORTANT! The input tensor to Cast contains values out of range for the target type. This is undefined behavior and likely a bug in your model. A crash immediately after this under ubsan is expected.\n",
      "2024-04-18 09:48:20.220252: E ./tensorflow/core/kernels/cast_op_impl.h:64] IMPORTANT! The input tensor to Cast contains values out of range for the target type. This is undefined behavior and likely a bug in your model. A crash immediately after this under ubsan is expected.\n"
     ]
    }
   ],
   "source": [
    "from transformers import pipeline\n",
    "summarizer = pipeline(\"summarization\")\n",
    "ARTICLE = \"\"\"\n",
    " Mr.\n",
    " and Mrs.\n",
    " Dursley, of number four, Privet Drive, were proud to say\n",
    " that they were perfectly normal, thank you very much.\n",
    " They were the last\n",
    " people you'd expect to be involved in anything strange or mysterious,\n",
    "because they just didn't hold with such nonsense.\n",
    " Mr.\n",
    " Dursley was the director of a firm called Grunnings, which made\n",
    " drills.\n",
    " He was a big, beefy man with hardly any neck, although he did\n",
    " have a very large mustache.\n",
    " Mrs.\n",
    " Dursley was thin and blonde and had\n",
    " nearly twice the usual amount of neck, which came in very useful as she\n",
    " spent so much of her time craning over garden fences, spying on the\n",
    " neighbors.\n",
    " The Dursleys had a small son called Dudley and in their\n",
    " opinion there was no finer boy anywhere\"\"\"\n",
    "print(summarizer(ARTICLE, max_length=130, min_length=30, do_sample=False))"
   ]
  },
  {
   "cell_type": "markdown",
   "id": "37bf1ab0-f98f-47d6-bfc4-0e8c55f7cd51",
   "metadata": {},
   "source": [
    "3. Suppose that you want to change to a different model. That’s extremely simple as you only need to change one parameter:"
   ]
  },
  {
   "cell_type": "code",
   "execution_count": 28,
   "id": "d420d962-68f3-4101-9525-49aa41a8217c",
   "metadata": {},
   "outputs": [
    {
     "name": "stderr",
     "output_type": "stream",
     "text": [
      "All PyTorch model weights were used when initializing TFT5ForConditionalGeneration.\n",
      "\n",
      "All the weights of TFT5ForConditionalGeneration were initialized from the PyTorch model.\n",
      "If your task is similar to the task the model of the checkpoint was trained on, you can already use TFT5ForConditionalGeneration for predictions without further training.\n"
     ]
    }
   ],
   "source": [
    "summarizer = pipeline(\"summarization\", model='t5-base')"
   ]
  },
  {
   "cell_type": "code",
   "execution_count": 29,
   "id": "4dac4367-9140-4782-a2db-8e67ce3e73d6",
   "metadata": {},
   "outputs": [
    {
     "name": "stderr",
     "output_type": "stream",
     "text": [
      "2024-04-18 09:50:28.550213: E ./tensorflow/core/kernels/cast_op_impl.h:64] IMPORTANT! The input tensor to Cast contains values out of range for the target type. This is undefined behavior and likely a bug in your model. A crash immediately after this under ubsan is expected.\n",
      "2024-04-18 09:50:28.700588: E ./tensorflow/core/kernels/cast_op_impl.h:64] IMPORTANT! The input tensor to Cast contains values out of range for the target type. This is undefined behavior and likely a bug in your model. A crash immediately after this under ubsan is expected.\n",
      "2024-04-18 09:50:28.856303: E ./tensorflow/core/kernels/cast_op_impl.h:64] IMPORTANT! The input tensor to Cast contains values out of range for the target type. This is undefined behavior and likely a bug in your model. A crash immediately after this under ubsan is expected.\n",
      "2024-04-18 09:50:28.963444: E ./tensorflow/core/kernels/cast_op_impl.h:64] IMPORTANT! The input tensor to Cast contains values out of range for the target type. This is undefined behavior and likely a bug in your model. A crash immediately after this under ubsan is expected.\n",
      "2024-04-18 09:50:29.069462: E ./tensorflow/core/kernels/cast_op_impl.h:64] IMPORTANT! The input tensor to Cast contains values out of range for the target type. This is undefined behavior and likely a bug in your model. A crash immediately after this under ubsan is expected.\n",
      "2024-04-18 09:50:29.176355: E ./tensorflow/core/kernels/cast_op_impl.h:64] IMPORTANT! The input tensor to Cast contains values out of range for the target type. This is undefined behavior and likely a bug in your model. A crash immediately after this under ubsan is expected.\n",
      "2024-04-18 09:50:29.282065: E ./tensorflow/core/kernels/cast_op_impl.h:64] IMPORTANT! The input tensor to Cast contains values out of range for the target type. This is undefined behavior and likely a bug in your model. A crash immediately after this under ubsan is expected.\n",
      "2024-04-18 09:50:29.380838: E ./tensorflow/core/kernels/cast_op_impl.h:64] IMPORTANT! The input tensor to Cast contains values out of range for the target type. This is undefined behavior and likely a bug in your model. A crash immediately after this under ubsan is expected.\n",
      "2024-04-18 09:50:29.479186: E ./tensorflow/core/kernels/cast_op_impl.h:64] IMPORTANT! The input tensor to Cast contains values out of range for the target type. This is undefined behavior and likely a bug in your model. A crash immediately after this under ubsan is expected.\n",
      "2024-04-18 09:50:29.577881: E ./tensorflow/core/kernels/cast_op_impl.h:64] IMPORTANT! The input tensor to Cast contains values out of range for the target type. This is undefined behavior and likely a bug in your model. A crash immediately after this under ubsan is expected.\n",
      "2024-04-18 09:50:29.676142: E ./tensorflow/core/kernels/cast_op_impl.h:64] IMPORTANT! The input tensor to Cast contains values out of range for the target type. This is undefined behavior and likely a bug in your model. A crash immediately after this under ubsan is expected.\n",
      "2024-04-18 09:50:29.773493: E ./tensorflow/core/kernels/cast_op_impl.h:64] IMPORTANT! The input tensor to Cast contains values out of range for the target type. This is undefined behavior and likely a bug in your model. A crash immediately after this under ubsan is expected.\n",
      "2024-04-18 09:50:29.871786: E ./tensorflow/core/kernels/cast_op_impl.h:64] IMPORTANT! The input tensor to Cast contains values out of range for the target type. This is undefined behavior and likely a bug in your model. A crash immediately after this under ubsan is expected.\n",
      "2024-04-18 09:50:29.969944: E ./tensorflow/core/kernels/cast_op_impl.h:64] IMPORTANT! The input tensor to Cast contains values out of range for the target type. This is undefined behavior and likely a bug in your model. A crash immediately after this under ubsan is expected.\n",
      "2024-04-18 09:50:30.068364: E ./tensorflow/core/kernels/cast_op_impl.h:64] IMPORTANT! The input tensor to Cast contains values out of range for the target type. This is undefined behavior and likely a bug in your model. A crash immediately after this under ubsan is expected.\n",
      "2024-04-18 09:50:30.167694: E ./tensorflow/core/kernels/cast_op_impl.h:64] IMPORTANT! The input tensor to Cast contains values out of range for the target type. This is undefined behavior and likely a bug in your model. A crash immediately after this under ubsan is expected.\n",
      "2024-04-18 09:50:30.265559: E ./tensorflow/core/kernels/cast_op_impl.h:64] IMPORTANT! The input tensor to Cast contains values out of range for the target type. This is undefined behavior and likely a bug in your model. A crash immediately after this under ubsan is expected.\n",
      "2024-04-18 09:50:30.363184: E ./tensorflow/core/kernels/cast_op_impl.h:64] IMPORTANT! The input tensor to Cast contains values out of range for the target type. This is undefined behavior and likely a bug in your model. A crash immediately after this under ubsan is expected.\n",
      "2024-04-18 09:50:30.462148: E ./tensorflow/core/kernels/cast_op_impl.h:64] IMPORTANT! The input tensor to Cast contains values out of range for the target type. This is undefined behavior and likely a bug in your model. A crash immediately after this under ubsan is expected.\n",
      "2024-04-18 09:50:30.562386: E ./tensorflow/core/kernels/cast_op_impl.h:64] IMPORTANT! The input tensor to Cast contains values out of range for the target type. This is undefined behavior and likely a bug in your model. A crash immediately after this under ubsan is expected.\n",
      "2024-04-18 09:50:30.662480: E ./tensorflow/core/kernels/cast_op_impl.h:64] IMPORTANT! The input tensor to Cast contains values out of range for the target type. This is undefined behavior and likely a bug in your model. A crash immediately after this under ubsan is expected.\n",
      "2024-04-18 09:50:30.763120: E ./tensorflow/core/kernels/cast_op_impl.h:64] IMPORTANT! The input tensor to Cast contains values out of range for the target type. This is undefined behavior and likely a bug in your model. A crash immediately after this under ubsan is expected.\n",
      "2024-04-18 09:50:30.863667: E ./tensorflow/core/kernels/cast_op_impl.h:64] IMPORTANT! The input tensor to Cast contains values out of range for the target type. This is undefined behavior and likely a bug in your model. A crash immediately after this under ubsan is expected.\n",
      "2024-04-18 09:50:30.964443: E ./tensorflow/core/kernels/cast_op_impl.h:64] IMPORTANT! The input tensor to Cast contains values out of range for the target type. This is undefined behavior and likely a bug in your model. A crash immediately after this under ubsan is expected.\n",
      "2024-04-18 09:50:31.065582: E ./tensorflow/core/kernels/cast_op_impl.h:64] IMPORTANT! The input tensor to Cast contains values out of range for the target type. This is undefined behavior and likely a bug in your model. A crash immediately after this under ubsan is expected.\n",
      "2024-04-18 09:50:31.165597: E ./tensorflow/core/kernels/cast_op_impl.h:64] IMPORTANT! The input tensor to Cast contains values out of range for the target type. This is undefined behavior and likely a bug in your model. A crash immediately after this under ubsan is expected.\n",
      "2024-04-18 09:50:31.266162: E ./tensorflow/core/kernels/cast_op_impl.h:64] IMPORTANT! The input tensor to Cast contains values out of range for the target type. This is undefined behavior and likely a bug in your model. A crash immediately after this under ubsan is expected.\n",
      "2024-04-18 09:50:31.366800: E ./tensorflow/core/kernels/cast_op_impl.h:64] IMPORTANT! The input tensor to Cast contains values out of range for the target type. This is undefined behavior and likely a bug in your model. A crash immediately after this under ubsan is expected.\n",
      "2024-04-18 09:50:31.467245: E ./tensorflow/core/kernels/cast_op_impl.h:64] IMPORTANT! The input tensor to Cast contains values out of range for the target type. This is undefined behavior and likely a bug in your model. A crash immediately after this under ubsan is expected.\n",
      "2024-04-18 09:50:31.568644: E ./tensorflow/core/kernels/cast_op_impl.h:64] IMPORTANT! The input tensor to Cast contains values out of range for the target type. This is undefined behavior and likely a bug in your model. A crash immediately after this under ubsan is expected.\n",
      "2024-04-18 09:50:31.669299: E ./tensorflow/core/kernels/cast_op_impl.h:64] IMPORTANT! The input tensor to Cast contains values out of range for the target type. This is undefined behavior and likely a bug in your model. A crash immediately after this under ubsan is expected.\n",
      "2024-04-18 09:50:31.769198: E ./tensorflow/core/kernels/cast_op_impl.h:64] IMPORTANT! The input tensor to Cast contains values out of range for the target type. This is undefined behavior and likely a bug in your model. A crash immediately after this under ubsan is expected.\n",
      "2024-04-18 09:50:31.870023: E ./tensorflow/core/kernels/cast_op_impl.h:64] IMPORTANT! The input tensor to Cast contains values out of range for the target type. This is undefined behavior and likely a bug in your model. A crash immediately after this under ubsan is expected.\n",
      "2024-04-18 09:50:31.969390: E ./tensorflow/core/kernels/cast_op_impl.h:64] IMPORTANT! The input tensor to Cast contains values out of range for the target type. This is undefined behavior and likely a bug in your model. A crash immediately after this under ubsan is expected.\n",
      "2024-04-18 09:50:32.069476: E ./tensorflow/core/kernels/cast_op_impl.h:64] IMPORTANT! The input tensor to Cast contains values out of range for the target type. This is undefined behavior and likely a bug in your model. A crash immediately after this under ubsan is expected.\n",
      "2024-04-18 09:50:32.169100: E ./tensorflow/core/kernels/cast_op_impl.h:64] IMPORTANT! The input tensor to Cast contains values out of range for the target type. This is undefined behavior and likely a bug in your model. A crash immediately after this under ubsan is expected.\n",
      "2024-04-18 09:50:32.269861: E ./tensorflow/core/kernels/cast_op_impl.h:64] IMPORTANT! The input tensor to Cast contains values out of range for the target type. This is undefined behavior and likely a bug in your model. A crash immediately after this under ubsan is expected.\n",
      "2024-04-18 09:50:32.370267: E ./tensorflow/core/kernels/cast_op_impl.h:64] IMPORTANT! The input tensor to Cast contains values out of range for the target type. This is undefined behavior and likely a bug in your model. A crash immediately after this under ubsan is expected.\n",
      "2024-04-18 09:50:32.470542: E ./tensorflow/core/kernels/cast_op_impl.h:64] IMPORTANT! The input tensor to Cast contains values out of range for the target type. This is undefined behavior and likely a bug in your model. A crash immediately after this under ubsan is expected.\n",
      "2024-04-18 09:50:32.571306: E ./tensorflow/core/kernels/cast_op_impl.h:64] IMPORTANT! The input tensor to Cast contains values out of range for the target type. This is undefined behavior and likely a bug in your model. A crash immediately after this under ubsan is expected.\n",
      "2024-04-18 09:50:32.670603: E ./tensorflow/core/kernels/cast_op_impl.h:64] IMPORTANT! The input tensor to Cast contains values out of range for the target type. This is undefined behavior and likely a bug in your model. A crash immediately after this under ubsan is expected.\n",
      "2024-04-18 09:50:32.771084: E ./tensorflow/core/kernels/cast_op_impl.h:64] IMPORTANT! The input tensor to Cast contains values out of range for the target type. This is undefined behavior and likely a bug in your model. A crash immediately after this under ubsan is expected.\n",
      "2024-04-18 09:50:32.871344: E ./tensorflow/core/kernels/cast_op_impl.h:64] IMPORTANT! The input tensor to Cast contains values out of range for the target type. This is undefined behavior and likely a bug in your model. A crash immediately after this under ubsan is expected.\n",
      "2024-04-18 09:50:32.971635: E ./tensorflow/core/kernels/cast_op_impl.h:64] IMPORTANT! The input tensor to Cast contains values out of range for the target type. This is undefined behavior and likely a bug in your model. A crash immediately after this under ubsan is expected.\n",
      "2024-04-18 09:50:33.073225: E ./tensorflow/core/kernels/cast_op_impl.h:64] IMPORTANT! The input tensor to Cast contains values out of range for the target type. This is undefined behavior and likely a bug in your model. A crash immediately after this under ubsan is expected.\n",
      "2024-04-18 09:50:33.173658: E ./tensorflow/core/kernels/cast_op_impl.h:64] IMPORTANT! The input tensor to Cast contains values out of range for the target type. This is undefined behavior and likely a bug in your model. A crash immediately after this under ubsan is expected.\n",
      "2024-04-18 09:50:33.273833: E ./tensorflow/core/kernels/cast_op_impl.h:64] IMPORTANT! The input tensor to Cast contains values out of range for the target type. This is undefined behavior and likely a bug in your model. A crash immediately after this under ubsan is expected.\n",
      "2024-04-18 09:50:33.374410: E ./tensorflow/core/kernels/cast_op_impl.h:64] IMPORTANT! The input tensor to Cast contains values out of range for the target type. This is undefined behavior and likely a bug in your model. A crash immediately after this under ubsan is expected.\n",
      "2024-04-18 09:50:33.474575: E ./tensorflow/core/kernels/cast_op_impl.h:64] IMPORTANT! The input tensor to Cast contains values out of range for the target type. This is undefined behavior and likely a bug in your model. A crash immediately after this under ubsan is expected.\n",
      "2024-04-18 09:50:33.574186: E ./tensorflow/core/kernels/cast_op_impl.h:64] IMPORTANT! The input tensor to Cast contains values out of range for the target type. This is undefined behavior and likely a bug in your model. A crash immediately after this under ubsan is expected.\n",
      "2024-04-18 09:50:33.674953: E ./tensorflow/core/kernels/cast_op_impl.h:64] IMPORTANT! The input tensor to Cast contains values out of range for the target type. This is undefined behavior and likely a bug in your model. A crash immediately after this under ubsan is expected.\n",
      "2024-04-18 09:50:33.776584: E ./tensorflow/core/kernels/cast_op_impl.h:64] IMPORTANT! The input tensor to Cast contains values out of range for the target type. This is undefined behavior and likely a bug in your model. A crash immediately after this under ubsan is expected.\n",
      "2024-04-18 09:50:33.882336: E ./tensorflow/core/kernels/cast_op_impl.h:64] IMPORTANT! The input tensor to Cast contains values out of range for the target type. This is undefined behavior and likely a bug in your model. A crash immediately after this under ubsan is expected.\n",
      "2024-04-18 09:50:33.989018: E ./tensorflow/core/kernels/cast_op_impl.h:64] IMPORTANT! The input tensor to Cast contains values out of range for the target type. This is undefined behavior and likely a bug in your model. A crash immediately after this under ubsan is expected.\n",
      "2024-04-18 09:50:34.096194: E ./tensorflow/core/kernels/cast_op_impl.h:64] IMPORTANT! The input tensor to Cast contains values out of range for the target type. This is undefined behavior and likely a bug in your model. A crash immediately after this under ubsan is expected.\n",
      "2024-04-18 09:50:34.198868: E ./tensorflow/core/kernels/cast_op_impl.h:64] IMPORTANT! The input tensor to Cast contains values out of range for the target type. This is undefined behavior and likely a bug in your model. A crash immediately after this under ubsan is expected.\n",
      "2024-04-18 09:50:34.299308: E ./tensorflow/core/kernels/cast_op_impl.h:64] IMPORTANT! The input tensor to Cast contains values out of range for the target type. This is undefined behavior and likely a bug in your model. A crash immediately after this under ubsan is expected.\n",
      "2024-04-18 09:50:34.399672: E ./tensorflow/core/kernels/cast_op_impl.h:64] IMPORTANT! The input tensor to Cast contains values out of range for the target type. This is undefined behavior and likely a bug in your model. A crash immediately after this under ubsan is expected.\n",
      "2024-04-18 09:50:34.500975: E ./tensorflow/core/kernels/cast_op_impl.h:64] IMPORTANT! The input tensor to Cast contains values out of range for the target type. This is undefined behavior and likely a bug in your model. A crash immediately after this under ubsan is expected.\n",
      "2024-04-18 09:50:34.602232: E ./tensorflow/core/kernels/cast_op_impl.h:64] IMPORTANT! The input tensor to Cast contains values out of range for the target type. This is undefined behavior and likely a bug in your model. A crash immediately after this under ubsan is expected.\n",
      "2024-04-18 09:50:34.703575: E ./tensorflow/core/kernels/cast_op_impl.h:64] IMPORTANT! The input tensor to Cast contains values out of range for the target type. This is undefined behavior and likely a bug in your model. A crash immediately after this under ubsan is expected.\n",
      "2024-04-18 09:50:34.804879: E ./tensorflow/core/kernels/cast_op_impl.h:64] IMPORTANT! The input tensor to Cast contains values out of range for the target type. This is undefined behavior and likely a bug in your model. A crash immediately after this under ubsan is expected.\n",
      "2024-04-18 09:50:34.905994: E ./tensorflow/core/kernels/cast_op_impl.h:64] IMPORTANT! The input tensor to Cast contains values out of range for the target type. This is undefined behavior and likely a bug in your model. A crash immediately after this under ubsan is expected.\n",
      "2024-04-18 09:50:35.008465: E ./tensorflow/core/kernels/cast_op_impl.h:64] IMPORTANT! The input tensor to Cast contains values out of range for the target type. This is undefined behavior and likely a bug in your model. A crash immediately after this under ubsan is expected.\n",
      "2024-04-18 09:50:35.111496: E ./tensorflow/core/kernels/cast_op_impl.h:64] IMPORTANT! The input tensor to Cast contains values out of range for the target type. This is undefined behavior and likely a bug in your model. A crash immediately after this under ubsan is expected.\n",
      "2024-04-18 09:50:35.212226: E ./tensorflow/core/kernels/cast_op_impl.h:64] IMPORTANT! The input tensor to Cast contains values out of range for the target type. This is undefined behavior and likely a bug in your model. A crash immediately after this under ubsan is expected.\n"
     ]
    },
    {
     "name": "stdout",
     "output_type": "stream",
     "text": [
      "[{'summary_text': \"bob greene says he and his wife were perfectly normal . he says they were the last people you'd expect to be involved in anything strange or mysterious . greene: they were a big, beefy man with hardly any neck, but had a very large mustache .\"}]\n"
     ]
    },
    {
     "name": "stderr",
     "output_type": "stream",
     "text": [
      "2024-04-18 09:50:35.313570: E ./tensorflow/core/kernels/cast_op_impl.h:64] IMPORTANT! The input tensor to Cast contains values out of range for the target type. This is undefined behavior and likely a bug in your model. A crash immediately after this under ubsan is expected.\n"
     ]
    }
   ],
   "source": [
    "print(summarizer(ARTICLE, max_length=130, min_length=30, do_sample=False))"
   ]
  },
  {
   "cell_type": "code",
   "execution_count": 30,
   "id": "8a847dc5-84aa-4047-846e-a26314de8f61",
   "metadata": {},
   "outputs": [
    {
     "name": "stderr",
     "output_type": "stream",
     "text": [
      "All PyTorch model weights were used when initializing TFT5ForConditionalGeneration.\n",
      "\n",
      "All the weights of TFT5ForConditionalGeneration were initialized from the PyTorch model.\n",
      "If your task is similar to the task the model of the checkpoint was trained on, you can already use TFT5ForConditionalGeneration for predictions without further training.\n",
      "2024-04-18 09:54:44.099655: E ./tensorflow/core/kernels/cast_op_impl.h:64] IMPORTANT! The input tensor to Cast contains values out of range for the target type. This is undefined behavior and likely a bug in your model. A crash immediately after this under ubsan is expected.\n",
      "2024-04-18 09:54:44.229979: E ./tensorflow/core/kernels/cast_op_impl.h:64] IMPORTANT! The input tensor to Cast contains values out of range for the target type. This is undefined behavior and likely a bug in your model. A crash immediately after this under ubsan is expected.\n",
      "2024-04-18 09:54:44.387572: E ./tensorflow/core/kernels/cast_op_impl.h:64] IMPORTANT! The input tensor to Cast contains values out of range for the target type. This is undefined behavior and likely a bug in your model. A crash immediately after this under ubsan is expected.\n",
      "2024-04-18 09:54:44.479289: E ./tensorflow/core/kernels/cast_op_impl.h:64] IMPORTANT! The input tensor to Cast contains values out of range for the target type. This is undefined behavior and likely a bug in your model. A crash immediately after this under ubsan is expected.\n",
      "2024-04-18 09:54:44.571487: E ./tensorflow/core/kernels/cast_op_impl.h:64] IMPORTANT! The input tensor to Cast contains values out of range for the target type. This is undefined behavior and likely a bug in your model. A crash immediately after this under ubsan is expected.\n",
      "2024-04-18 09:54:44.663418: E ./tensorflow/core/kernels/cast_op_impl.h:64] IMPORTANT! The input tensor to Cast contains values out of range for the target type. This is undefined behavior and likely a bug in your model. A crash immediately after this under ubsan is expected.\n",
      "2024-04-18 09:54:44.757440: E ./tensorflow/core/kernels/cast_op_impl.h:64] IMPORTANT! The input tensor to Cast contains values out of range for the target type. This is undefined behavior and likely a bug in your model. A crash immediately after this under ubsan is expected.\n",
      "2024-04-18 09:54:44.857945: E ./tensorflow/core/kernels/cast_op_impl.h:64] IMPORTANT! The input tensor to Cast contains values out of range for the target type. This is undefined behavior and likely a bug in your model. A crash immediately after this under ubsan is expected.\n",
      "2024-04-18 09:54:44.960044: E ./tensorflow/core/kernels/cast_op_impl.h:64] IMPORTANT! The input tensor to Cast contains values out of range for the target type. This is undefined behavior and likely a bug in your model. A crash immediately after this under ubsan is expected.\n",
      "2024-04-18 09:54:45.063358: E ./tensorflow/core/kernels/cast_op_impl.h:64] IMPORTANT! The input tensor to Cast contains values out of range for the target type. This is undefined behavior and likely a bug in your model. A crash immediately after this under ubsan is expected.\n",
      "2024-04-18 09:54:45.172212: E ./tensorflow/core/kernels/cast_op_impl.h:64] IMPORTANT! The input tensor to Cast contains values out of range for the target type. This is undefined behavior and likely a bug in your model. A crash immediately after this under ubsan is expected.\n",
      "2024-04-18 09:54:45.267334: E ./tensorflow/core/kernels/cast_op_impl.h:64] IMPORTANT! The input tensor to Cast contains values out of range for the target type. This is undefined behavior and likely a bug in your model. A crash immediately after this under ubsan is expected.\n",
      "2024-04-18 09:54:45.357084: E ./tensorflow/core/kernels/cast_op_impl.h:64] IMPORTANT! The input tensor to Cast contains values out of range for the target type. This is undefined behavior and likely a bug in your model. A crash immediately after this under ubsan is expected.\n",
      "2024-04-18 09:54:45.447650: E ./tensorflow/core/kernels/cast_op_impl.h:64] IMPORTANT! The input tensor to Cast contains values out of range for the target type. This is undefined behavior and likely a bug in your model. A crash immediately after this under ubsan is expected.\n",
      "2024-04-18 09:54:45.539022: E ./tensorflow/core/kernels/cast_op_impl.h:64] IMPORTANT! The input tensor to Cast contains values out of range for the target type. This is undefined behavior and likely a bug in your model. A crash immediately after this under ubsan is expected.\n",
      "2024-04-18 09:54:45.634228: E ./tensorflow/core/kernels/cast_op_impl.h:64] IMPORTANT! The input tensor to Cast contains values out of range for the target type. This is undefined behavior and likely a bug in your model. A crash immediately after this under ubsan is expected.\n",
      "2024-04-18 09:54:45.731292: E ./tensorflow/core/kernels/cast_op_impl.h:64] IMPORTANT! The input tensor to Cast contains values out of range for the target type. This is undefined behavior and likely a bug in your model. A crash immediately after this under ubsan is expected.\n",
      "2024-04-18 09:54:45.821588: E ./tensorflow/core/kernels/cast_op_impl.h:64] IMPORTANT! The input tensor to Cast contains values out of range for the target type. This is undefined behavior and likely a bug in your model. A crash immediately after this under ubsan is expected.\n",
      "2024-04-18 09:54:45.911686: E ./tensorflow/core/kernels/cast_op_impl.h:64] IMPORTANT! The input tensor to Cast contains values out of range for the target type. This is undefined behavior and likely a bug in your model. A crash immediately after this under ubsan is expected.\n",
      "2024-04-18 09:54:46.005839: E ./tensorflow/core/kernels/cast_op_impl.h:64] IMPORTANT! The input tensor to Cast contains values out of range for the target type. This is undefined behavior and likely a bug in your model. A crash immediately after this under ubsan is expected.\n",
      "2024-04-18 09:54:46.104265: E ./tensorflow/core/kernels/cast_op_impl.h:64] IMPORTANT! The input tensor to Cast contains values out of range for the target type. This is undefined behavior and likely a bug in your model. A crash immediately after this under ubsan is expected.\n",
      "2024-04-18 09:54:46.199526: E ./tensorflow/core/kernels/cast_op_impl.h:64] IMPORTANT! The input tensor to Cast contains values out of range for the target type. This is undefined behavior and likely a bug in your model. A crash immediately after this under ubsan is expected.\n",
      "2024-04-18 09:54:46.292501: E ./tensorflow/core/kernels/cast_op_impl.h:64] IMPORTANT! The input tensor to Cast contains values out of range for the target type. This is undefined behavior and likely a bug in your model. A crash immediately after this under ubsan is expected.\n",
      "2024-04-18 09:54:46.383942: E ./tensorflow/core/kernels/cast_op_impl.h:64] IMPORTANT! The input tensor to Cast contains values out of range for the target type. This is undefined behavior and likely a bug in your model. A crash immediately after this under ubsan is expected.\n",
      "2024-04-18 09:54:46.476297: E ./tensorflow/core/kernels/cast_op_impl.h:64] IMPORTANT! The input tensor to Cast contains values out of range for the target type. This is undefined behavior and likely a bug in your model. A crash immediately after this under ubsan is expected.\n",
      "2024-04-18 09:54:46.568478: E ./tensorflow/core/kernels/cast_op_impl.h:64] IMPORTANT! The input tensor to Cast contains values out of range for the target type. This is undefined behavior and likely a bug in your model. A crash immediately after this under ubsan is expected.\n",
      "2024-04-18 09:54:46.660219: E ./tensorflow/core/kernels/cast_op_impl.h:64] IMPORTANT! The input tensor to Cast contains values out of range for the target type. This is undefined behavior and likely a bug in your model. A crash immediately after this under ubsan is expected.\n",
      "2024-04-18 09:54:46.753007: E ./tensorflow/core/kernels/cast_op_impl.h:64] IMPORTANT! The input tensor to Cast contains values out of range for the target type. This is undefined behavior and likely a bug in your model. A crash immediately after this under ubsan is expected.\n",
      "2024-04-18 09:54:46.854118: E ./tensorflow/core/kernels/cast_op_impl.h:64] IMPORTANT! The input tensor to Cast contains values out of range for the target type. This is undefined behavior and likely a bug in your model. A crash immediately after this under ubsan is expected.\n",
      "2024-04-18 09:54:46.951820: E ./tensorflow/core/kernels/cast_op_impl.h:64] IMPORTANT! The input tensor to Cast contains values out of range for the target type. This is undefined behavior and likely a bug in your model. A crash immediately after this under ubsan is expected.\n",
      "2024-04-18 09:54:47.046354: E ./tensorflow/core/kernels/cast_op_impl.h:64] IMPORTANT! The input tensor to Cast contains values out of range for the target type. This is undefined behavior and likely a bug in your model. A crash immediately after this under ubsan is expected.\n",
      "2024-04-18 09:54:47.145237: E ./tensorflow/core/kernels/cast_op_impl.h:64] IMPORTANT! The input tensor to Cast contains values out of range for the target type. This is undefined behavior and likely a bug in your model. A crash immediately after this under ubsan is expected.\n",
      "2024-04-18 09:54:47.238502: E ./tensorflow/core/kernels/cast_op_impl.h:64] IMPORTANT! The input tensor to Cast contains values out of range for the target type. This is undefined behavior and likely a bug in your model. A crash immediately after this under ubsan is expected.\n",
      "2024-04-18 09:54:47.330445: E ./tensorflow/core/kernels/cast_op_impl.h:64] IMPORTANT! The input tensor to Cast contains values out of range for the target type. This is undefined behavior and likely a bug in your model. A crash immediately after this under ubsan is expected.\n",
      "2024-04-18 09:54:47.429842: E ./tensorflow/core/kernels/cast_op_impl.h:64] IMPORTANT! The input tensor to Cast contains values out of range for the target type. This is undefined behavior and likely a bug in your model. A crash immediately after this under ubsan is expected.\n",
      "2024-04-18 09:54:47.527725: E ./tensorflow/core/kernels/cast_op_impl.h:64] IMPORTANT! The input tensor to Cast contains values out of range for the target type. This is undefined behavior and likely a bug in your model. A crash immediately after this under ubsan is expected.\n",
      "2024-04-18 09:54:47.621356: E ./tensorflow/core/kernels/cast_op_impl.h:64] IMPORTANT! The input tensor to Cast contains values out of range for the target type. This is undefined behavior and likely a bug in your model. A crash immediately after this under ubsan is expected.\n",
      "2024-04-18 09:54:47.722121: E ./tensorflow/core/kernels/cast_op_impl.h:64] IMPORTANT! The input tensor to Cast contains values out of range for the target type. This is undefined behavior and likely a bug in your model. A crash immediately after this under ubsan is expected.\n",
      "2024-04-18 09:54:47.818841: E ./tensorflow/core/kernels/cast_op_impl.h:64] IMPORTANT! The input tensor to Cast contains values out of range for the target type. This is undefined behavior and likely a bug in your model. A crash immediately after this under ubsan is expected.\n",
      "2024-04-18 09:54:47.914538: E ./tensorflow/core/kernels/cast_op_impl.h:64] IMPORTANT! The input tensor to Cast contains values out of range for the target type. This is undefined behavior and likely a bug in your model. A crash immediately after this under ubsan is expected.\n",
      "2024-04-18 09:54:48.010195: E ./tensorflow/core/kernels/cast_op_impl.h:64] IMPORTANT! The input tensor to Cast contains values out of range for the target type. This is undefined behavior and likely a bug in your model. A crash immediately after this under ubsan is expected.\n",
      "2024-04-18 09:54:48.108788: E ./tensorflow/core/kernels/cast_op_impl.h:64] IMPORTANT! The input tensor to Cast contains values out of range for the target type. This is undefined behavior and likely a bug in your model. A crash immediately after this under ubsan is expected.\n",
      "2024-04-18 09:54:48.206308: E ./tensorflow/core/kernels/cast_op_impl.h:64] IMPORTANT! The input tensor to Cast contains values out of range for the target type. This is undefined behavior and likely a bug in your model. A crash immediately after this under ubsan is expected.\n",
      "2024-04-18 09:54:48.303174: E ./tensorflow/core/kernels/cast_op_impl.h:64] IMPORTANT! The input tensor to Cast contains values out of range for the target type. This is undefined behavior and likely a bug in your model. A crash immediately after this under ubsan is expected.\n",
      "2024-04-18 09:54:48.398302: E ./tensorflow/core/kernels/cast_op_impl.h:64] IMPORTANT! The input tensor to Cast contains values out of range for the target type. This is undefined behavior and likely a bug in your model. A crash immediately after this under ubsan is expected.\n",
      "2024-04-18 09:54:48.495876: E ./tensorflow/core/kernels/cast_op_impl.h:64] IMPORTANT! The input tensor to Cast contains values out of range for the target type. This is undefined behavior and likely a bug in your model. A crash immediately after this under ubsan is expected.\n",
      "2024-04-18 09:54:48.594830: E ./tensorflow/core/kernels/cast_op_impl.h:64] IMPORTANT! The input tensor to Cast contains values out of range for the target type. This is undefined behavior and likely a bug in your model. A crash immediately after this under ubsan is expected.\n",
      "2024-04-18 09:54:48.687477: E ./tensorflow/core/kernels/cast_op_impl.h:64] IMPORTANT! The input tensor to Cast contains values out of range for the target type. This is undefined behavior and likely a bug in your model. A crash immediately after this under ubsan is expected.\n",
      "2024-04-18 09:54:48.779373: E ./tensorflow/core/kernels/cast_op_impl.h:64] IMPORTANT! The input tensor to Cast contains values out of range for the target type. This is undefined behavior and likely a bug in your model. A crash immediately after this under ubsan is expected.\n",
      "2024-04-18 09:54:48.871607: E ./tensorflow/core/kernels/cast_op_impl.h:64] IMPORTANT! The input tensor to Cast contains values out of range for the target type. This is undefined behavior and likely a bug in your model. A crash immediately after this under ubsan is expected.\n",
      "2024-04-18 09:54:48.963725: E ./tensorflow/core/kernels/cast_op_impl.h:64] IMPORTANT! The input tensor to Cast contains values out of range for the target type. This is undefined behavior and likely a bug in your model. A crash immediately after this under ubsan is expected.\n",
      "2024-04-18 09:54:49.057355: E ./tensorflow/core/kernels/cast_op_impl.h:64] IMPORTANT! The input tensor to Cast contains values out of range for the target type. This is undefined behavior and likely a bug in your model. A crash immediately after this under ubsan is expected.\n",
      "2024-04-18 09:54:49.153967: E ./tensorflow/core/kernels/cast_op_impl.h:64] IMPORTANT! The input tensor to Cast contains values out of range for the target type. This is undefined behavior and likely a bug in your model. A crash immediately after this under ubsan is expected.\n",
      "2024-04-18 09:54:49.251700: E ./tensorflow/core/kernels/cast_op_impl.h:64] IMPORTANT! The input tensor to Cast contains values out of range for the target type. This is undefined behavior and likely a bug in your model. A crash immediately after this under ubsan is expected.\n",
      "2024-04-18 09:54:49.349959: E ./tensorflow/core/kernels/cast_op_impl.h:64] IMPORTANT! The input tensor to Cast contains values out of range for the target type. This is undefined behavior and likely a bug in your model. A crash immediately after this under ubsan is expected.\n",
      "2024-04-18 09:54:49.448719: E ./tensorflow/core/kernels/cast_op_impl.h:64] IMPORTANT! The input tensor to Cast contains values out of range for the target type. This is undefined behavior and likely a bug in your model. A crash immediately after this under ubsan is expected.\n",
      "2024-04-18 09:54:49.543642: E ./tensorflow/core/kernels/cast_op_impl.h:64] IMPORTANT! The input tensor to Cast contains values out of range for the target type. This is undefined behavior and likely a bug in your model. A crash immediately after this under ubsan is expected.\n",
      "2024-04-18 09:54:49.637560: E ./tensorflow/core/kernels/cast_op_impl.h:64] IMPORTANT! The input tensor to Cast contains values out of range for the target type. This is undefined behavior and likely a bug in your model. A crash immediately after this under ubsan is expected.\n",
      "2024-04-18 09:54:49.733655: E ./tensorflow/core/kernels/cast_op_impl.h:64] IMPORTANT! The input tensor to Cast contains values out of range for the target type. This is undefined behavior and likely a bug in your model. A crash immediately after this under ubsan is expected.\n",
      "2024-04-18 09:54:49.830675: E ./tensorflow/core/kernels/cast_op_impl.h:64] IMPORTANT! The input tensor to Cast contains values out of range for the target type. This is undefined behavior and likely a bug in your model. A crash immediately after this under ubsan is expected.\n",
      "2024-04-18 09:54:49.927220: E ./tensorflow/core/kernels/cast_op_impl.h:64] IMPORTANT! The input tensor to Cast contains values out of range for the target type. This is undefined behavior and likely a bug in your model. A crash immediately after this under ubsan is expected.\n",
      "2024-04-18 09:54:50.022840: E ./tensorflow/core/kernels/cast_op_impl.h:64] IMPORTANT! The input tensor to Cast contains values out of range for the target type. This is undefined behavior and likely a bug in your model. A crash immediately after this under ubsan is expected.\n",
      "2024-04-18 09:54:50.121330: E ./tensorflow/core/kernels/cast_op_impl.h:64] IMPORTANT! The input tensor to Cast contains values out of range for the target type. This is undefined behavior and likely a bug in your model. A crash immediately after this under ubsan is expected.\n",
      "2024-04-18 09:54:50.217809: E ./tensorflow/core/kernels/cast_op_impl.h:64] IMPORTANT! The input tensor to Cast contains values out of range for the target type. This is undefined behavior and likely a bug in your model. A crash immediately after this under ubsan is expected.\n",
      "2024-04-18 09:54:50.313671: E ./tensorflow/core/kernels/cast_op_impl.h:64] IMPORTANT! The input tensor to Cast contains values out of range for the target type. This is undefined behavior and likely a bug in your model. A crash immediately after this under ubsan is expected.\n",
      "2024-04-18 09:54:50.410628: E ./tensorflow/core/kernels/cast_op_impl.h:64] IMPORTANT! The input tensor to Cast contains values out of range for the target type. This is undefined behavior and likely a bug in your model. A crash immediately after this under ubsan is expected.\n",
      "2024-04-18 09:54:50.505665: E ./tensorflow/core/kernels/cast_op_impl.h:64] IMPORTANT! The input tensor to Cast contains values out of range for the target type. This is undefined behavior and likely a bug in your model. A crash immediately after this under ubsan is expected.\n"
     ]
    },
    {
     "name": "stdout",
     "output_type": "stream",
     "text": [
      "[{'summary_text': \"bob greene says he and his wife were perfectly normal . he says they were the last people you'd expect to be involved in anything strange or mysterious . greene: they were a big, beefy man with hardly any neck, but had a very large mustache .\"}]\n"
     ]
    }
   ],
   "source": [
    "# Try writing something yourslef and see if the LLM provides a sufficient summarization!\n",
    "summaryizer = pipeline(\"summarization\", model='t5-base')\n",
    "print(summarizer(ARTICLE, max_length=130, min_length=30, do_sample=False))"
   ]
  },
  {
   "cell_type": "markdown",
   "id": "f899b04a-391b-4cc3-ad99-fb03cdcae297",
   "metadata": {},
   "source": [
    "# Fine-tuning"
   ]
  },
  {
   "cell_type": "markdown",
   "id": "67a3973b-dc72-40f9-85f5-faf03a93d756",
   "metadata": {},
   "source": [
    "1. First, let’s load and tokenize the Yelp dataset:"
   ]
  },
  {
   "cell_type": "code",
   "execution_count": 33,
   "id": "3e72b33b-fe61-4957-9567-25239b212baa",
   "metadata": {},
   "outputs": [
    {
     "name": "stderr",
     "output_type": "stream",
     "text": [
      "Downloading readme: 100%|██████████████████| 6.72k/6.72k [00:00<00:00, 7.41MB/s]\n",
      "Downloading data: 100%|██████████████████████| 299M/299M [00:05<00:00, 55.2MB/s]\n",
      "Downloading data: 100%|████████████████████| 23.5M/23.5M [00:00<00:00, 51.6MB/s]\n",
      "Generating train split: 100%|█| 650000/650000 [00:00<00:00, 1577896.58 examples/\n",
      "Generating test split: 100%|██| 50000/50000 [00:00<00:00, 1642840.80 examples/s]\n"
     ]
    }
   ],
   "source": [
    "from datasets import load_dataset\n",
    "dataset = load_dataset(\"yelp_review_full\")\n",
    "from transformers import AutoTokenizer"
   ]
  },
  {
   "cell_type": "code",
   "execution_count": 34,
   "id": "5467159b-c32e-424b-ad51-72e097af17d8",
   "metadata": {},
   "outputs": [
    {
     "name": "stderr",
     "output_type": "stream",
     "text": [
      "Map: 100%|█████████████████████| 650000/650000 [01:09<00:00, 9321.41 examples/s]\n",
      "Map: 100%|███████████████████████| 50000/50000 [00:05<00:00, 9218.44 examples/s]\n"
     ]
    }
   ],
   "source": [
    "tokenizer = AutoTokenizer.from_pretrained(\"bert-base-cased\")\n",
    "\n",
    "def tokenize_function(examples):\n",
    "    return tokenizer(examples[\"text\"], padding=\"max_length\", truncation=True)\n",
    "\n",
    "tokenized_datasets = dataset.map(tokenize_function, batched=True)\n",
    "small_train_dataset = tokenized_datasets[\"train\"].shuffle(seed=42).select(range(1000))\n",
    "small_eval_dataset = tokenized_datasets[\"test\"].shuffle(seed=42).select(range(1000))"
   ]
  },
  {
   "cell_type": "markdown",
   "id": "442362c0-622e-410c-804c-d570091cbba3",
   "metadata": {},
   "source": [
    "2. Then let’s convert them to TF format datasets:"
   ]
  },
  {
   "cell_type": "code",
   "execution_count": 35,
   "id": "1edf4464-b8e8-41e4-a5c6-834bbe64e33a",
   "metadata": {},
   "outputs": [],
   "source": [
    "from transformers import DefaultDataCollator"
   ]
  },
  {
   "cell_type": "code",
   "execution_count": 36,
   "id": "215d443a-1ac8-4623-b74d-74c794834ed8",
   "metadata": {},
   "outputs": [
    {
     "name": "stderr",
     "output_type": "stream",
     "text": [
      "/opt/anaconda3/envs/env_ait746_tensorflow/lib/python3.10/site-packages/datasets/arrow_dataset.py:401: FutureWarning: The output of `to_tf_dataset` will change when a passing single element list for `labels` or `columns` in the next datasets version. To return a tuple structure rather than dict, pass a single string.\n",
      "Old behaviour: columns=['a'], labels=['labels'] -> (tf.Tensor, tf.Tensor)  \n",
      "             : columns='a', labels='labels' -> (tf.Tensor, tf.Tensor)  \n",
      "New behaviour: columns=['a'],labels=['labels'] -> ({'a': tf.Tensor}, {'labels': tf.Tensor})  \n",
      "             : columns='a', labels='labels' -> (tf.Tensor, tf.Tensor) \n",
      "  warnings.warn(\n"
     ]
    }
   ],
   "source": [
    "data_collator = DefaultDataCollator(return_tensors=\"tf\")\n",
    "\n",
    "# convert the tokenized datasets to TensorFlow datasets\n",
    "tf_train_dataset = small_train_dataset.to_tf_dataset(\n",
    "    columns=[\"attention_mask\", \"input_ids\", \"token_type_ids\"],\n",
    "    label_cols=[\"labels\"],\n",
    "    shuffle=True,\n",
    "    collate_fn=data_collator,\n",
    "    batch_size=8,\n",
    ")\n",
    "tf_validation_dataset = small_eval_dataset.to_tf_dataset(\n",
    "    columns=[\"attention_mask\", \"input_ids\", \"token_type_ids\"],\n",
    "    label_cols=[\"labels\"],\n",
    "    shuffle=False,\n",
    "    collate_fn=data_collator,\n",
    "    batch_size=8,\n",
    ")"
   ]
  },
  {
   "cell_type": "markdown",
   "id": "eb645bc6-f764-466f-a3cc-e2d276fbff16",
   "metadata": {},
   "source": [
    "3. Now, we can use TFAutoModelForSequenceClassification, specifically selecting bert-base-cased:"
   ]
  },
  {
   "cell_type": "code",
   "execution_count": 4,
   "id": "becb5580-9187-4544-8de7-1eaa10c85ad0",
   "metadata": {},
   "outputs": [],
   "source": [
    "import tensorflow as tf\n",
    "from transformers import TFAutoModelForSequenceClassification"
   ]
  },
  {
   "cell_type": "code",
   "execution_count": 5,
   "id": "f16ae416-35f7-4b47-8a21-2696e53e619e",
   "metadata": {},
   "outputs": [
    {
     "name": "stderr",
     "output_type": "stream",
     "text": [
      "All PyTorch model weights were used when initializing TFBertForSequenceClassification.\n",
      "\n",
      "Some weights or buffers of the TF 2.0 model TFBertForSequenceClassification were not initialized from the PyTorch model and are newly initialized: ['classifier.weight', 'classifier.bias']\n",
      "You should probably TRAIN this model on a down-stream task to be able to use it for predictions and inference.\n"
     ]
    }
   ],
   "source": [
    "model = TFAutoModelForSequenceClassification.from_pretrained(\"bert-base-cased\", num_labels=5)"
   ]
  },
  {
   "cell_type": "markdown",
   "id": "a9c673b0-3c33-4929-ac48-ce12f6ceaa1a",
   "metadata": {},
   "source": [
    "4. Finally, the fine-tuning is simply using the standard way to train a model used in Keras/TF 2.0 by compiling the model and then using fit on it:"
   ]
  },
  {
   "cell_type": "code",
   "execution_count": 13,
   "id": "2138a606-233a-40a8-86bd-be0eae6579c1",
   "metadata": {},
   "outputs": [
    {
     "ename": "RecursionError",
     "evalue": "maximum recursion depth exceeded in comparison",
     "output_type": "error",
     "traceback": [
      "\u001b[0;31m---------------------------------------------------------------------------\u001b[0m",
      "\u001b[0;31mRecursionError\u001b[0m                            Traceback (most recent call last)",
      "Cell \u001b[0;32mIn[13], line 2\u001b[0m\n\u001b[1;32m      1\u001b[0m model\u001b[38;5;241m.\u001b[39mcompile(\n\u001b[0;32m----> 2\u001b[0m     optimizer\u001b[38;5;241m=\u001b[39m\u001b[43mtf\u001b[49m\u001b[38;5;241;43m.\u001b[39;49m\u001b[43mkeras\u001b[49m\u001b[38;5;241;43m.\u001b[39;49m\u001b[43moptimizers\u001b[49m\u001b[38;5;241m.\u001b[39mAdam(learning_rate\u001b[38;5;241m=\u001b[39m\u001b[38;5;241m5e-5\u001b[39m),\n\u001b[1;32m      3\u001b[0m     loss\u001b[38;5;241m=\u001b[39mtf\u001b[38;5;241m.\u001b[39mkeras\u001b[38;5;241m.\u001b[39mlosses\u001b[38;5;241m.\u001b[39mSparseCategoricalCrossentropy(from_logits\u001b[38;5;241m=\u001b[39m\u001b[38;5;28;01mTrue\u001b[39;00m),\n\u001b[1;32m      4\u001b[0m     metrics\u001b[38;5;241m=\u001b[39mtf\u001b[38;5;241m.\u001b[39mmetrics\u001b[38;5;241m.\u001b[39mSparseCategoricalAccuracy(),\n\u001b[1;32m      5\u001b[0m )\n",
      "File \u001b[0;32m/opt/anaconda3/envs/env_ait746_tensorflow/lib/python3.10/site-packages/tensorflow/python/util/lazy_loader.py:170\u001b[0m, in \u001b[0;36mKerasLazyLoader.__getattr__\u001b[0;34m(self, item)\u001b[0m\n\u001b[1;32m    165\u001b[0m   \u001b[38;5;28;01melif\u001b[39;00m (\u001b[38;5;28mself\u001b[39m\u001b[38;5;241m.\u001b[39m_submodule \u001b[38;5;129;01mand\u001b[39;00m\n\u001b[1;32m    166\u001b[0m         \u001b[38;5;28mself\u001b[39m\u001b[38;5;241m.\u001b[39m_submodule\u001b[38;5;241m.\u001b[39mstartswith(\u001b[38;5;124m\"\u001b[39m\u001b[38;5;124m__internal__.legacy.\u001b[39m\u001b[38;5;124m\"\u001b[39m)):\n\u001b[1;32m    167\u001b[0m     \u001b[38;5;28;01mraise\u001b[39;00m \u001b[38;5;167;01mAttributeError\u001b[39;00m(\n\u001b[1;32m    168\u001b[0m         \u001b[38;5;124mf\u001b[39m\u001b[38;5;124m\"\u001b[39m\u001b[38;5;124m`\u001b[39m\u001b[38;5;132;01m{\u001b[39;00mitem\u001b[38;5;132;01m}\u001b[39;00m\u001b[38;5;124m` is not available with Keras 3.\u001b[39m\u001b[38;5;124m\"\u001b[39m\n\u001b[1;32m    169\u001b[0m     )\n\u001b[0;32m--> 170\u001b[0m module \u001b[38;5;241m=\u001b[39m \u001b[38;5;28;43mself\u001b[39;49m\u001b[38;5;241;43m.\u001b[39;49m\u001b[43m_load\u001b[49m\u001b[43m(\u001b[49m\u001b[43m)\u001b[49m\n\u001b[1;32m    171\u001b[0m \u001b[38;5;28;01mreturn\u001b[39;00m \u001b[38;5;28mgetattr\u001b[39m(module, item)\n",
      "File \u001b[0;32m/opt/anaconda3/envs/env_ait746_tensorflow/lib/python3.10/site-packages/tensorflow/python/util/lazy_loader.py:50\u001b[0m, in \u001b[0;36mLazyLoader._load\u001b[0;34m(self)\u001b[0m\n\u001b[1;32m     48\u001b[0m \u001b[38;5;250m\u001b[39m\u001b[38;5;124;03m\"\"\"Load the module and insert it into the parent's globals.\"\"\"\u001b[39;00m\n\u001b[1;32m     49\u001b[0m \u001b[38;5;66;03m# Import the target module and insert it into the parent's namespace\u001b[39;00m\n\u001b[0;32m---> 50\u001b[0m module \u001b[38;5;241m=\u001b[39m importlib\u001b[38;5;241m.\u001b[39mimport_module(\u001b[38;5;28;43mself\u001b[39;49m\u001b[38;5;241;43m.\u001b[39;49m\u001b[38;5;18;43m__name__\u001b[39;49m)\n\u001b[1;32m     51\u001b[0m \u001b[38;5;28mself\u001b[39m\u001b[38;5;241m.\u001b[39m_parent_module_globals[\u001b[38;5;28mself\u001b[39m\u001b[38;5;241m.\u001b[39m_local_name] \u001b[38;5;241m=\u001b[39m module\n\u001b[1;32m     53\u001b[0m \u001b[38;5;66;03m# Emit a warning if one was specified\u001b[39;00m\n",
      "File \u001b[0;32m/opt/anaconda3/envs/env_ait746_tensorflow/lib/python3.10/site-packages/tensorflow/python/util/lazy_loader.py:170\u001b[0m, in \u001b[0;36mKerasLazyLoader.__getattr__\u001b[0;34m(self, item)\u001b[0m\n\u001b[1;32m    165\u001b[0m   \u001b[38;5;28;01melif\u001b[39;00m (\u001b[38;5;28mself\u001b[39m\u001b[38;5;241m.\u001b[39m_submodule \u001b[38;5;129;01mand\u001b[39;00m\n\u001b[1;32m    166\u001b[0m         \u001b[38;5;28mself\u001b[39m\u001b[38;5;241m.\u001b[39m_submodule\u001b[38;5;241m.\u001b[39mstartswith(\u001b[38;5;124m\"\u001b[39m\u001b[38;5;124m__internal__.legacy.\u001b[39m\u001b[38;5;124m\"\u001b[39m)):\n\u001b[1;32m    167\u001b[0m     \u001b[38;5;28;01mraise\u001b[39;00m \u001b[38;5;167;01mAttributeError\u001b[39;00m(\n\u001b[1;32m    168\u001b[0m         \u001b[38;5;124mf\u001b[39m\u001b[38;5;124m\"\u001b[39m\u001b[38;5;124m`\u001b[39m\u001b[38;5;132;01m{\u001b[39;00mitem\u001b[38;5;132;01m}\u001b[39;00m\u001b[38;5;124m` is not available with Keras 3.\u001b[39m\u001b[38;5;124m\"\u001b[39m\n\u001b[1;32m    169\u001b[0m     )\n\u001b[0;32m--> 170\u001b[0m module \u001b[38;5;241m=\u001b[39m \u001b[38;5;28;43mself\u001b[39;49m\u001b[38;5;241;43m.\u001b[39;49m\u001b[43m_load\u001b[49m\u001b[43m(\u001b[49m\u001b[43m)\u001b[49m\n\u001b[1;32m    171\u001b[0m \u001b[38;5;28;01mreturn\u001b[39;00m \u001b[38;5;28mgetattr\u001b[39m(module, item)\n",
      "File \u001b[0;32m/opt/anaconda3/envs/env_ait746_tensorflow/lib/python3.10/site-packages/tensorflow/python/util/lazy_loader.py:50\u001b[0m, in \u001b[0;36mLazyLoader._load\u001b[0;34m(self)\u001b[0m\n\u001b[1;32m     48\u001b[0m \u001b[38;5;250m\u001b[39m\u001b[38;5;124;03m\"\"\"Load the module and insert it into the parent's globals.\"\"\"\u001b[39;00m\n\u001b[1;32m     49\u001b[0m \u001b[38;5;66;03m# Import the target module and insert it into the parent's namespace\u001b[39;00m\n\u001b[0;32m---> 50\u001b[0m module \u001b[38;5;241m=\u001b[39m importlib\u001b[38;5;241m.\u001b[39mimport_module(\u001b[38;5;28;43mself\u001b[39;49m\u001b[38;5;241;43m.\u001b[39;49m\u001b[38;5;18;43m__name__\u001b[39;49m)\n\u001b[1;32m     51\u001b[0m \u001b[38;5;28mself\u001b[39m\u001b[38;5;241m.\u001b[39m_parent_module_globals[\u001b[38;5;28mself\u001b[39m\u001b[38;5;241m.\u001b[39m_local_name] \u001b[38;5;241m=\u001b[39m module\n\u001b[1;32m     53\u001b[0m \u001b[38;5;66;03m# Emit a warning if one was specified\u001b[39;00m\n",
      "    \u001b[0;31m[... skipping similar frames: KerasLazyLoader.__getattr__ at line 170 (1483 times), LazyLoader._load at line 50 (1483 times)]\u001b[0m\n",
      "File \u001b[0;32m/opt/anaconda3/envs/env_ait746_tensorflow/lib/python3.10/site-packages/tensorflow/python/util/lazy_loader.py:170\u001b[0m, in \u001b[0;36mKerasLazyLoader.__getattr__\u001b[0;34m(self, item)\u001b[0m\n\u001b[1;32m    165\u001b[0m   \u001b[38;5;28;01melif\u001b[39;00m (\u001b[38;5;28mself\u001b[39m\u001b[38;5;241m.\u001b[39m_submodule \u001b[38;5;129;01mand\u001b[39;00m\n\u001b[1;32m    166\u001b[0m         \u001b[38;5;28mself\u001b[39m\u001b[38;5;241m.\u001b[39m_submodule\u001b[38;5;241m.\u001b[39mstartswith(\u001b[38;5;124m\"\u001b[39m\u001b[38;5;124m__internal__.legacy.\u001b[39m\u001b[38;5;124m\"\u001b[39m)):\n\u001b[1;32m    167\u001b[0m     \u001b[38;5;28;01mraise\u001b[39;00m \u001b[38;5;167;01mAttributeError\u001b[39;00m(\n\u001b[1;32m    168\u001b[0m         \u001b[38;5;124mf\u001b[39m\u001b[38;5;124m\"\u001b[39m\u001b[38;5;124m`\u001b[39m\u001b[38;5;132;01m{\u001b[39;00mitem\u001b[38;5;132;01m}\u001b[39;00m\u001b[38;5;124m` is not available with Keras 3.\u001b[39m\u001b[38;5;124m\"\u001b[39m\n\u001b[1;32m    169\u001b[0m     )\n\u001b[0;32m--> 170\u001b[0m module \u001b[38;5;241m=\u001b[39m \u001b[38;5;28;43mself\u001b[39;49m\u001b[38;5;241;43m.\u001b[39;49m\u001b[43m_load\u001b[49m\u001b[43m(\u001b[49m\u001b[43m)\u001b[49m\n\u001b[1;32m    171\u001b[0m \u001b[38;5;28;01mreturn\u001b[39;00m \u001b[38;5;28mgetattr\u001b[39m(module, item)\n",
      "File \u001b[0;32m/opt/anaconda3/envs/env_ait746_tensorflow/lib/python3.10/site-packages/tensorflow/python/util/lazy_loader.py:50\u001b[0m, in \u001b[0;36mLazyLoader._load\u001b[0;34m(self)\u001b[0m\n\u001b[1;32m     48\u001b[0m \u001b[38;5;250m\u001b[39m\u001b[38;5;124;03m\"\"\"Load the module and insert it into the parent's globals.\"\"\"\u001b[39;00m\n\u001b[1;32m     49\u001b[0m \u001b[38;5;66;03m# Import the target module and insert it into the parent's namespace\u001b[39;00m\n\u001b[0;32m---> 50\u001b[0m module \u001b[38;5;241m=\u001b[39m importlib\u001b[38;5;241m.\u001b[39mimport_module(\u001b[38;5;28;43mself\u001b[39;49m\u001b[38;5;241;43m.\u001b[39;49m\u001b[38;5;18;43m__name__\u001b[39;49m)\n\u001b[1;32m     51\u001b[0m \u001b[38;5;28mself\u001b[39m\u001b[38;5;241m.\u001b[39m_parent_module_globals[\u001b[38;5;28mself\u001b[39m\u001b[38;5;241m.\u001b[39m_local_name] \u001b[38;5;241m=\u001b[39m module\n\u001b[1;32m     53\u001b[0m \u001b[38;5;66;03m# Emit a warning if one was specified\u001b[39;00m\n",
      "File \u001b[0;32m/opt/anaconda3/envs/env_ait746_tensorflow/lib/python3.10/site-packages/tensorflow/python/util/lazy_loader.py:143\u001b[0m, in \u001b[0;36mKerasLazyLoader.__getattr__\u001b[0;34m(self, item)\u001b[0m\n\u001b[1;32m    142\u001b[0m \u001b[38;5;28;01mdef\u001b[39;00m \u001b[38;5;21m__getattr__\u001b[39m(\u001b[38;5;28mself\u001b[39m, item):\n\u001b[0;32m--> 143\u001b[0m   \u001b[38;5;28;01mif\u001b[39;00m \u001b[43mitem\u001b[49m\u001b[43m \u001b[49m\u001b[38;5;129;43;01min\u001b[39;49;00m\u001b[43m \u001b[49m\u001b[43m(\u001b[49m\u001b[38;5;124;43m\"\u001b[39;49m\u001b[38;5;124;43m_mode\u001b[39;49m\u001b[38;5;124;43m\"\u001b[39;49m\u001b[43m,\u001b[49m\u001b[43m \u001b[49m\u001b[38;5;124;43m\"\u001b[39;49m\u001b[38;5;124;43m_initialized\u001b[39;49m\u001b[38;5;124;43m\"\u001b[39;49m\u001b[43m,\u001b[49m\u001b[43m \u001b[49m\u001b[38;5;124;43m\"\u001b[39;49m\u001b[38;5;124;43m_name\u001b[39;49m\u001b[38;5;124;43m\"\u001b[39;49m\u001b[43m)\u001b[49m:\n\u001b[1;32m    144\u001b[0m     \u001b[38;5;28;01mreturn\u001b[39;00m \u001b[38;5;28msuper\u001b[39m(types\u001b[38;5;241m.\u001b[39mModuleType, \u001b[38;5;28mself\u001b[39m)\u001b[38;5;241m.\u001b[39m\u001b[38;5;21m__getattribute__\u001b[39m(item)\n\u001b[1;32m    145\u001b[0m   \u001b[38;5;28;01mif\u001b[39;00m \u001b[38;5;129;01mnot\u001b[39;00m \u001b[38;5;28mself\u001b[39m\u001b[38;5;241m.\u001b[39m_initialized:\n",
      "\u001b[0;31mRecursionError\u001b[0m: maximum recursion depth exceeded in comparison"
     ]
    }
   ],
   "source": [
    "model.compile(\n",
    "    optimizer=tf.keras.optimizers.Adam(learning_rate=5e-5),\n",
    "    loss=tf.keras.losses.SparseCategoricalCrossentropy(from_logits=True),\n",
    "    metrics=tf.metrics.SparseCategoricalAccuracy(),\n",
    ")"
   ]
  },
  {
   "cell_type": "code",
   "execution_count": 12,
   "id": "06b726a7-6e39-4d8e-b3b7-877c718a0a26",
   "metadata": {},
   "outputs": [
    {
     "ename": "NameError",
     "evalue": "name 'tf_train_dataset' is not defined",
     "output_type": "error",
     "traceback": [
      "\u001b[0;31m---------------------------------------------------------------------------\u001b[0m",
      "\u001b[0;31mNameError\u001b[0m                                 Traceback (most recent call last)",
      "Cell \u001b[0;32mIn[12], line 1\u001b[0m\n\u001b[0;32m----> 1\u001b[0m model\u001b[38;5;241m.\u001b[39mfit(\u001b[43mtf_train_dataset\u001b[49m, validation_data\u001b[38;5;241m=\u001b[39mtf_validation_dataset, epochs\u001b[38;5;241m=\u001b[39m\u001b[38;5;241m3\u001b[39m)\n",
      "\u001b[0;31mNameError\u001b[0m: name 'tf_train_dataset' is not defined"
     ]
    }
   ],
   "source": [
    "model.fit(tf_train_dataset, validation_data=tf_validation_dataset, epochs=3)"
   ]
  },
  {
   "cell_type": "markdown",
   "id": "e204287d-20b6-4c4b-92c8-784370a61db5",
   "metadata": {},
   "source": [
    "Now lets try and make a prediction! Enter in a hypothetical review of a resturant you recently went to that you want the fine-tuned LLM to predict a star rating for. In order to complete this part of the assignment, you can use external sources to help you."
   ]
  },
  {
   "cell_type": "code",
   "execution_count": null,
   "id": "ed3ef7b4-aed7-4ad6-9c03-a3d0fee32691",
   "metadata": {},
   "outputs": [],
   "source": [
    "# Tokenize input text\n",
    "input_text = \"...\" # Enter in your own hypothetical review\n",
    "\n",
    "# Use the tokenizer to tokenize your input\n",
    "tokenized_input = \n",
    "\n",
    "# Prepare input for the model\n",
    "input_ids = \n",
    "attention_mask ="
   ]
  },
  {
   "cell_type": "code",
   "execution_count": null,
   "id": "e44467cf-4c46-4bb6-b357-0ae3359ff6a2",
   "metadata": {},
   "outputs": [],
   "source": [
    "# Make predictions using the model.predict method. Make sure you\n",
    "# enter the right parameters (input_ids and attention_mask)\n",
    "predictions = model.predict()"
   ]
  },
  {
   "cell_type": "code",
   "execution_count": null,
   "id": "cd361104-6045-498e-a7c8-d6335ca5dde6",
   "metadata": {},
   "outputs": [],
   "source": [
    "# Access the prediction logits\n",
    "logits = \n",
    "\n",
    "# Apply softmax and get the probabilties of each class\n",
    "probabilities = \n",
    "\n",
    "# Select the label with maximum probability\n",
    "predicted_class = \n",
    "\n",
    "# Print the predicted rating\n",
    "\n",
    "# Print the probabilities of all classes\n"
   ]
  },
  {
   "cell_type": "code",
   "execution_count": null,
   "id": "aa9ed019-c451-4ec6-81fe-0b4057224c26",
   "metadata": {},
   "outputs": [],
   "source": [
    "# Note: These models can take up a lot of space on your computer so\n",
    "# remove them if you need to after you complete homework assignment.\n",
    "# All models should be stored in C:/path/to/username/.cache/huggingface/hub."
   ]
  },
  {
   "cell_type": "code",
   "execution_count": null,
   "id": "6557b59a-dffa-4278-a420-223f73403b12",
   "metadata": {},
   "outputs": [],
   "source": []
  }
 ],
 "metadata": {
  "kernelspec": {
   "display_name": "env_ait746_tensorflow",
   "language": "python",
   "name": "env_ait746_tensorflow"
  },
  "language_info": {
   "codemirror_mode": {
    "name": "ipython",
    "version": 3
   },
   "file_extension": ".py",
   "mimetype": "text/x-python",
   "name": "python",
   "nbconvert_exporter": "python",
   "pygments_lexer": "ipython3",
   "version": "3.10.13"
  }
 },
 "nbformat": 4,
 "nbformat_minor": 5
}
